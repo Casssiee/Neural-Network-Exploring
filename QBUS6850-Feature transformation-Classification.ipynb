{
 "cells": [
  {
   "cell_type": "markdown",
   "metadata": {},
   "source": [
    "# Import packages and loading the data"
   ]
  },
  {
   "cell_type": "code",
   "execution_count": 510,
   "metadata": {},
   "outputs": [],
   "source": [
    "import numpy as np \n",
    "import pandas as pd\n",
    "import seaborn as sns\n",
    "import matplotlib.pyplot as plt \n",
    "from sklearn.metrics import log_loss\n",
    "\n",
    "#https://scikit-learn.org/stable/modules/generated/sklearn.metrics.classification_report.html\n",
    "from sklearn.metrics import classification_report\n",
    "\n",
    "import warnings \n",
    "warnings.filterwarnings('ignore')"
   ]
  },
  {
   "cell_type": "markdown",
   "metadata": {},
   "source": [
    "# Classification data\n",
    "------------------------"
   ]
  },
  {
   "cell_type": "markdown",
   "metadata": {},
   "source": [
    "# 1.Real world dataset"
   ]
  },
  {
   "cell_type": "code",
   "execution_count": 471,
   "metadata": {},
   "outputs": [
    {
     "data": {
      "text/html": [
       "<div>\n",
       "<style scoped>\n",
       "    .dataframe tbody tr th:only-of-type {\n",
       "        vertical-align: middle;\n",
       "    }\n",
       "\n",
       "    .dataframe tbody tr th {\n",
       "        vertical-align: top;\n",
       "    }\n",
       "\n",
       "    .dataframe thead th {\n",
       "        text-align: right;\n",
       "    }\n",
       "</style>\n",
       "<table border=\"1\" class=\"dataframe\">\n",
       "  <thead>\n",
       "    <tr style=\"text-align: right;\">\n",
       "      <th></th>\n",
       "      <th>Pregnancies</th>\n",
       "      <th>Glucose</th>\n",
       "      <th>BloodPressure</th>\n",
       "      <th>SkinThickness</th>\n",
       "      <th>Insulin</th>\n",
       "      <th>BMI</th>\n",
       "      <th>DiabetesPedigreeFunction</th>\n",
       "      <th>Age</th>\n",
       "      <th>Outcome</th>\n",
       "    </tr>\n",
       "  </thead>\n",
       "  <tbody>\n",
       "    <tr>\n",
       "      <th>0</th>\n",
       "      <td>6</td>\n",
       "      <td>148</td>\n",
       "      <td>72</td>\n",
       "      <td>35</td>\n",
       "      <td>0</td>\n",
       "      <td>33.6</td>\n",
       "      <td>0.627</td>\n",
       "      <td>50</td>\n",
       "      <td>1</td>\n",
       "    </tr>\n",
       "    <tr>\n",
       "      <th>1</th>\n",
       "      <td>1</td>\n",
       "      <td>85</td>\n",
       "      <td>66</td>\n",
       "      <td>29</td>\n",
       "      <td>0</td>\n",
       "      <td>26.6</td>\n",
       "      <td>0.351</td>\n",
       "      <td>31</td>\n",
       "      <td>0</td>\n",
       "    </tr>\n",
       "    <tr>\n",
       "      <th>2</th>\n",
       "      <td>8</td>\n",
       "      <td>183</td>\n",
       "      <td>64</td>\n",
       "      <td>0</td>\n",
       "      <td>0</td>\n",
       "      <td>23.3</td>\n",
       "      <td>0.672</td>\n",
       "      <td>32</td>\n",
       "      <td>1</td>\n",
       "    </tr>\n",
       "    <tr>\n",
       "      <th>3</th>\n",
       "      <td>1</td>\n",
       "      <td>89</td>\n",
       "      <td>66</td>\n",
       "      <td>23</td>\n",
       "      <td>94</td>\n",
       "      <td>28.1</td>\n",
       "      <td>0.167</td>\n",
       "      <td>21</td>\n",
       "      <td>0</td>\n",
       "    </tr>\n",
       "    <tr>\n",
       "      <th>4</th>\n",
       "      <td>0</td>\n",
       "      <td>137</td>\n",
       "      <td>40</td>\n",
       "      <td>35</td>\n",
       "      <td>168</td>\n",
       "      <td>43.1</td>\n",
       "      <td>2.288</td>\n",
       "      <td>33</td>\n",
       "      <td>1</td>\n",
       "    </tr>\n",
       "    <tr>\n",
       "      <th>...</th>\n",
       "      <td>...</td>\n",
       "      <td>...</td>\n",
       "      <td>...</td>\n",
       "      <td>...</td>\n",
       "      <td>...</td>\n",
       "      <td>...</td>\n",
       "      <td>...</td>\n",
       "      <td>...</td>\n",
       "      <td>...</td>\n",
       "    </tr>\n",
       "    <tr>\n",
       "      <th>763</th>\n",
       "      <td>10</td>\n",
       "      <td>101</td>\n",
       "      <td>76</td>\n",
       "      <td>48</td>\n",
       "      <td>180</td>\n",
       "      <td>32.9</td>\n",
       "      <td>0.171</td>\n",
       "      <td>63</td>\n",
       "      <td>0</td>\n",
       "    </tr>\n",
       "    <tr>\n",
       "      <th>764</th>\n",
       "      <td>2</td>\n",
       "      <td>122</td>\n",
       "      <td>70</td>\n",
       "      <td>27</td>\n",
       "      <td>0</td>\n",
       "      <td>36.8</td>\n",
       "      <td>0.340</td>\n",
       "      <td>27</td>\n",
       "      <td>0</td>\n",
       "    </tr>\n",
       "    <tr>\n",
       "      <th>765</th>\n",
       "      <td>5</td>\n",
       "      <td>121</td>\n",
       "      <td>72</td>\n",
       "      <td>23</td>\n",
       "      <td>112</td>\n",
       "      <td>26.2</td>\n",
       "      <td>0.245</td>\n",
       "      <td>30</td>\n",
       "      <td>0</td>\n",
       "    </tr>\n",
       "    <tr>\n",
       "      <th>766</th>\n",
       "      <td>1</td>\n",
       "      <td>126</td>\n",
       "      <td>60</td>\n",
       "      <td>0</td>\n",
       "      <td>0</td>\n",
       "      <td>30.1</td>\n",
       "      <td>0.349</td>\n",
       "      <td>47</td>\n",
       "      <td>1</td>\n",
       "    </tr>\n",
       "    <tr>\n",
       "      <th>767</th>\n",
       "      <td>1</td>\n",
       "      <td>93</td>\n",
       "      <td>70</td>\n",
       "      <td>31</td>\n",
       "      <td>0</td>\n",
       "      <td>30.4</td>\n",
       "      <td>0.315</td>\n",
       "      <td>23</td>\n",
       "      <td>0</td>\n",
       "    </tr>\n",
       "  </tbody>\n",
       "</table>\n",
       "<p>768 rows × 9 columns</p>\n",
       "</div>"
      ],
      "text/plain": [
       "     Pregnancies  Glucose  BloodPressure  SkinThickness  Insulin   BMI  \\\n",
       "0              6      148             72             35        0  33.6   \n",
       "1              1       85             66             29        0  26.6   \n",
       "2              8      183             64              0        0  23.3   \n",
       "3              1       89             66             23       94  28.1   \n",
       "4              0      137             40             35      168  43.1   \n",
       "..           ...      ...            ...            ...      ...   ...   \n",
       "763           10      101             76             48      180  32.9   \n",
       "764            2      122             70             27        0  36.8   \n",
       "765            5      121             72             23      112  26.2   \n",
       "766            1      126             60              0        0  30.1   \n",
       "767            1       93             70             31        0  30.4   \n",
       "\n",
       "     DiabetesPedigreeFunction  Age  Outcome  \n",
       "0                       0.627   50        1  \n",
       "1                       0.351   31        0  \n",
       "2                       0.672   32        1  \n",
       "3                       0.167   21        0  \n",
       "4                       2.288   33        1  \n",
       "..                        ...  ...      ...  \n",
       "763                     0.171   63        0  \n",
       "764                     0.340   27        0  \n",
       "765                     0.245   30        0  \n",
       "766                     0.349   47        1  \n",
       "767                     0.315   23        0  \n",
       "\n",
       "[768 rows x 9 columns]"
      ]
     },
     "execution_count": 471,
     "metadata": {},
     "output_type": "execute_result"
    }
   ],
   "source": [
    "np.random.seed(16)\n",
    "\n",
    "df = pd.read_csv('diabetes.csv')\n",
    "df"
   ]
  },
  {
   "cell_type": "code",
   "execution_count": 472,
   "metadata": {},
   "outputs": [],
   "source": [
    "df['Glucose'] = df['Glucose'].replace(0, np.nan)\n",
    "df['BloodPressure'] = df['BloodPressure'].replace(0, np.nan)\n",
    "df['SkinThickness'] = df['SkinThickness'].replace(0, np.nan)\n",
    "df['Insulin'] = df['Insulin'].replace(0, np.nan)\n",
    "df['BMI'] = df['BMI'].replace(0, np.nan)\n",
    "df['Glucose'] = df['Glucose'].fillna(df['Glucose'].mean())\n",
    "df['BloodPressure'] = df['BloodPressure'].fillna(df['BloodPressure'].mean())\n",
    "df['SkinThickness'] = df['SkinThickness'].fillna(df['SkinThickness'].mean())\n",
    "df['Insulin'] = df['Insulin'].fillna(df['Insulin'].mean())\n",
    "df['BMI'] = df['BMI'].fillna(df['BMI'].mean())"
   ]
  },
  {
   "cell_type": "code",
   "execution_count": 473,
   "metadata": {},
   "outputs": [
    {
     "data": {
      "text/html": [
       "<div>\n",
       "<style scoped>\n",
       "    .dataframe tbody tr th:only-of-type {\n",
       "        vertical-align: middle;\n",
       "    }\n",
       "\n",
       "    .dataframe tbody tr th {\n",
       "        vertical-align: top;\n",
       "    }\n",
       "\n",
       "    .dataframe thead th {\n",
       "        text-align: right;\n",
       "    }\n",
       "</style>\n",
       "<table border=\"1\" class=\"dataframe\">\n",
       "  <thead>\n",
       "    <tr style=\"text-align: right;\">\n",
       "      <th></th>\n",
       "      <th>Pregnancies</th>\n",
       "      <th>Glucose</th>\n",
       "      <th>BloodPressure</th>\n",
       "      <th>SkinThickness</th>\n",
       "      <th>Insulin</th>\n",
       "      <th>BMI</th>\n",
       "      <th>DiabetesPedigreeFunction</th>\n",
       "      <th>Age</th>\n",
       "      <th>Outcome</th>\n",
       "    </tr>\n",
       "  </thead>\n",
       "  <tbody>\n",
       "    <tr>\n",
       "      <th>0</th>\n",
       "      <td>6</td>\n",
       "      <td>148.0</td>\n",
       "      <td>72.0</td>\n",
       "      <td>35.00000</td>\n",
       "      <td>155.548223</td>\n",
       "      <td>33.6</td>\n",
       "      <td>0.627</td>\n",
       "      <td>50</td>\n",
       "      <td>1</td>\n",
       "    </tr>\n",
       "    <tr>\n",
       "      <th>1</th>\n",
       "      <td>1</td>\n",
       "      <td>85.0</td>\n",
       "      <td>66.0</td>\n",
       "      <td>29.00000</td>\n",
       "      <td>155.548223</td>\n",
       "      <td>26.6</td>\n",
       "      <td>0.351</td>\n",
       "      <td>31</td>\n",
       "      <td>0</td>\n",
       "    </tr>\n",
       "    <tr>\n",
       "      <th>2</th>\n",
       "      <td>8</td>\n",
       "      <td>183.0</td>\n",
       "      <td>64.0</td>\n",
       "      <td>29.15342</td>\n",
       "      <td>155.548223</td>\n",
       "      <td>23.3</td>\n",
       "      <td>0.672</td>\n",
       "      <td>32</td>\n",
       "      <td>1</td>\n",
       "    </tr>\n",
       "    <tr>\n",
       "      <th>3</th>\n",
       "      <td>1</td>\n",
       "      <td>89.0</td>\n",
       "      <td>66.0</td>\n",
       "      <td>23.00000</td>\n",
       "      <td>94.000000</td>\n",
       "      <td>28.1</td>\n",
       "      <td>0.167</td>\n",
       "      <td>21</td>\n",
       "      <td>0</td>\n",
       "    </tr>\n",
       "    <tr>\n",
       "      <th>4</th>\n",
       "      <td>0</td>\n",
       "      <td>137.0</td>\n",
       "      <td>40.0</td>\n",
       "      <td>35.00000</td>\n",
       "      <td>168.000000</td>\n",
       "      <td>43.1</td>\n",
       "      <td>2.288</td>\n",
       "      <td>33</td>\n",
       "      <td>1</td>\n",
       "    </tr>\n",
       "    <tr>\n",
       "      <th>...</th>\n",
       "      <td>...</td>\n",
       "      <td>...</td>\n",
       "      <td>...</td>\n",
       "      <td>...</td>\n",
       "      <td>...</td>\n",
       "      <td>...</td>\n",
       "      <td>...</td>\n",
       "      <td>...</td>\n",
       "      <td>...</td>\n",
       "    </tr>\n",
       "    <tr>\n",
       "      <th>763</th>\n",
       "      <td>10</td>\n",
       "      <td>101.0</td>\n",
       "      <td>76.0</td>\n",
       "      <td>48.00000</td>\n",
       "      <td>180.000000</td>\n",
       "      <td>32.9</td>\n",
       "      <td>0.171</td>\n",
       "      <td>63</td>\n",
       "      <td>0</td>\n",
       "    </tr>\n",
       "    <tr>\n",
       "      <th>764</th>\n",
       "      <td>2</td>\n",
       "      <td>122.0</td>\n",
       "      <td>70.0</td>\n",
       "      <td>27.00000</td>\n",
       "      <td>155.548223</td>\n",
       "      <td>36.8</td>\n",
       "      <td>0.340</td>\n",
       "      <td>27</td>\n",
       "      <td>0</td>\n",
       "    </tr>\n",
       "    <tr>\n",
       "      <th>765</th>\n",
       "      <td>5</td>\n",
       "      <td>121.0</td>\n",
       "      <td>72.0</td>\n",
       "      <td>23.00000</td>\n",
       "      <td>112.000000</td>\n",
       "      <td>26.2</td>\n",
       "      <td>0.245</td>\n",
       "      <td>30</td>\n",
       "      <td>0</td>\n",
       "    </tr>\n",
       "    <tr>\n",
       "      <th>766</th>\n",
       "      <td>1</td>\n",
       "      <td>126.0</td>\n",
       "      <td>60.0</td>\n",
       "      <td>29.15342</td>\n",
       "      <td>155.548223</td>\n",
       "      <td>30.1</td>\n",
       "      <td>0.349</td>\n",
       "      <td>47</td>\n",
       "      <td>1</td>\n",
       "    </tr>\n",
       "    <tr>\n",
       "      <th>767</th>\n",
       "      <td>1</td>\n",
       "      <td>93.0</td>\n",
       "      <td>70.0</td>\n",
       "      <td>31.00000</td>\n",
       "      <td>155.548223</td>\n",
       "      <td>30.4</td>\n",
       "      <td>0.315</td>\n",
       "      <td>23</td>\n",
       "      <td>0</td>\n",
       "    </tr>\n",
       "  </tbody>\n",
       "</table>\n",
       "<p>768 rows × 9 columns</p>\n",
       "</div>"
      ],
      "text/plain": [
       "     Pregnancies  Glucose  BloodPressure  SkinThickness     Insulin   BMI  \\\n",
       "0              6    148.0           72.0       35.00000  155.548223  33.6   \n",
       "1              1     85.0           66.0       29.00000  155.548223  26.6   \n",
       "2              8    183.0           64.0       29.15342  155.548223  23.3   \n",
       "3              1     89.0           66.0       23.00000   94.000000  28.1   \n",
       "4              0    137.0           40.0       35.00000  168.000000  43.1   \n",
       "..           ...      ...            ...            ...         ...   ...   \n",
       "763           10    101.0           76.0       48.00000  180.000000  32.9   \n",
       "764            2    122.0           70.0       27.00000  155.548223  36.8   \n",
       "765            5    121.0           72.0       23.00000  112.000000  26.2   \n",
       "766            1    126.0           60.0       29.15342  155.548223  30.1   \n",
       "767            1     93.0           70.0       31.00000  155.548223  30.4   \n",
       "\n",
       "     DiabetesPedigreeFunction  Age  Outcome  \n",
       "0                       0.627   50        1  \n",
       "1                       0.351   31        0  \n",
       "2                       0.672   32        1  \n",
       "3                       0.167   21        0  \n",
       "4                       2.288   33        1  \n",
       "..                        ...  ...      ...  \n",
       "763                     0.171   63        0  \n",
       "764                     0.340   27        0  \n",
       "765                     0.245   30        0  \n",
       "766                     0.349   47        1  \n",
       "767                     0.315   23        0  \n",
       "\n",
       "[768 rows x 9 columns]"
      ]
     },
     "execution_count": 473,
     "metadata": {},
     "output_type": "execute_result"
    }
   ],
   "source": [
    "df"
   ]
  },
  {
   "cell_type": "code",
   "execution_count": 474,
   "metadata": {},
   "outputs": [],
   "source": [
    "X = df.iloc[:,:-1].to_numpy()\n",
    "y = df.iloc[:, -1].to_numpy()"
   ]
  },
  {
   "cell_type": "code",
   "execution_count": 475,
   "metadata": {},
   "outputs": [
    {
     "data": {
      "text/html": [
       "<div>\n",
       "<style scoped>\n",
       "    .dataframe tbody tr th:only-of-type {\n",
       "        vertical-align: middle;\n",
       "    }\n",
       "\n",
       "    .dataframe tbody tr th {\n",
       "        vertical-align: top;\n",
       "    }\n",
       "\n",
       "    .dataframe thead th {\n",
       "        text-align: right;\n",
       "    }\n",
       "</style>\n",
       "<table border=\"1\" class=\"dataframe\">\n",
       "  <thead>\n",
       "    <tr style=\"text-align: right;\">\n",
       "      <th></th>\n",
       "      <th>Pregnancies</th>\n",
       "      <th>Glucose</th>\n",
       "      <th>BloodPressure</th>\n",
       "      <th>SkinThickness</th>\n",
       "      <th>Insulin</th>\n",
       "      <th>BMI</th>\n",
       "      <th>DiabetesPedigreeFunction</th>\n",
       "      <th>Age</th>\n",
       "      <th>Outcome</th>\n",
       "    </tr>\n",
       "  </thead>\n",
       "  <tbody>\n",
       "    <tr>\n",
       "      <th>count</th>\n",
       "      <td>768.000000</td>\n",
       "      <td>768.000000</td>\n",
       "      <td>768.000000</td>\n",
       "      <td>768.000000</td>\n",
       "      <td>768.000000</td>\n",
       "      <td>768.000000</td>\n",
       "      <td>768.000000</td>\n",
       "      <td>768.000000</td>\n",
       "      <td>768.000000</td>\n",
       "    </tr>\n",
       "    <tr>\n",
       "      <th>mean</th>\n",
       "      <td>3.845052</td>\n",
       "      <td>121.686763</td>\n",
       "      <td>72.405184</td>\n",
       "      <td>29.153420</td>\n",
       "      <td>155.548223</td>\n",
       "      <td>32.457464</td>\n",
       "      <td>0.471876</td>\n",
       "      <td>33.240885</td>\n",
       "      <td>0.348958</td>\n",
       "    </tr>\n",
       "    <tr>\n",
       "      <th>std</th>\n",
       "      <td>3.369578</td>\n",
       "      <td>30.435949</td>\n",
       "      <td>12.096346</td>\n",
       "      <td>8.790942</td>\n",
       "      <td>85.021108</td>\n",
       "      <td>6.875151</td>\n",
       "      <td>0.331329</td>\n",
       "      <td>11.760232</td>\n",
       "      <td>0.476951</td>\n",
       "    </tr>\n",
       "    <tr>\n",
       "      <th>min</th>\n",
       "      <td>0.000000</td>\n",
       "      <td>44.000000</td>\n",
       "      <td>24.000000</td>\n",
       "      <td>7.000000</td>\n",
       "      <td>14.000000</td>\n",
       "      <td>18.200000</td>\n",
       "      <td>0.078000</td>\n",
       "      <td>21.000000</td>\n",
       "      <td>0.000000</td>\n",
       "    </tr>\n",
       "    <tr>\n",
       "      <th>25%</th>\n",
       "      <td>1.000000</td>\n",
       "      <td>99.750000</td>\n",
       "      <td>64.000000</td>\n",
       "      <td>25.000000</td>\n",
       "      <td>121.500000</td>\n",
       "      <td>27.500000</td>\n",
       "      <td>0.243750</td>\n",
       "      <td>24.000000</td>\n",
       "      <td>0.000000</td>\n",
       "    </tr>\n",
       "    <tr>\n",
       "      <th>50%</th>\n",
       "      <td>3.000000</td>\n",
       "      <td>117.000000</td>\n",
       "      <td>72.202592</td>\n",
       "      <td>29.153420</td>\n",
       "      <td>155.548223</td>\n",
       "      <td>32.400000</td>\n",
       "      <td>0.372500</td>\n",
       "      <td>29.000000</td>\n",
       "      <td>0.000000</td>\n",
       "    </tr>\n",
       "    <tr>\n",
       "      <th>75%</th>\n",
       "      <td>6.000000</td>\n",
       "      <td>140.250000</td>\n",
       "      <td>80.000000</td>\n",
       "      <td>32.000000</td>\n",
       "      <td>155.548223</td>\n",
       "      <td>36.600000</td>\n",
       "      <td>0.626250</td>\n",
       "      <td>41.000000</td>\n",
       "      <td>1.000000</td>\n",
       "    </tr>\n",
       "    <tr>\n",
       "      <th>max</th>\n",
       "      <td>17.000000</td>\n",
       "      <td>199.000000</td>\n",
       "      <td>122.000000</td>\n",
       "      <td>99.000000</td>\n",
       "      <td>846.000000</td>\n",
       "      <td>67.100000</td>\n",
       "      <td>2.420000</td>\n",
       "      <td>81.000000</td>\n",
       "      <td>1.000000</td>\n",
       "    </tr>\n",
       "  </tbody>\n",
       "</table>\n",
       "</div>"
      ],
      "text/plain": [
       "       Pregnancies     Glucose  BloodPressure  SkinThickness     Insulin  \\\n",
       "count   768.000000  768.000000     768.000000     768.000000  768.000000   \n",
       "mean      3.845052  121.686763      72.405184      29.153420  155.548223   \n",
       "std       3.369578   30.435949      12.096346       8.790942   85.021108   \n",
       "min       0.000000   44.000000      24.000000       7.000000   14.000000   \n",
       "25%       1.000000   99.750000      64.000000      25.000000  121.500000   \n",
       "50%       3.000000  117.000000      72.202592      29.153420  155.548223   \n",
       "75%       6.000000  140.250000      80.000000      32.000000  155.548223   \n",
       "max      17.000000  199.000000     122.000000      99.000000  846.000000   \n",
       "\n",
       "              BMI  DiabetesPedigreeFunction         Age     Outcome  \n",
       "count  768.000000                768.000000  768.000000  768.000000  \n",
       "mean    32.457464                  0.471876   33.240885    0.348958  \n",
       "std      6.875151                  0.331329   11.760232    0.476951  \n",
       "min     18.200000                  0.078000   21.000000    0.000000  \n",
       "25%     27.500000                  0.243750   24.000000    0.000000  \n",
       "50%     32.400000                  0.372500   29.000000    0.000000  \n",
       "75%     36.600000                  0.626250   41.000000    1.000000  \n",
       "max     67.100000                  2.420000   81.000000    1.000000  "
      ]
     },
     "execution_count": 475,
     "metadata": {},
     "output_type": "execute_result"
    }
   ],
   "source": [
    "df.describe()"
   ]
  },
  {
   "cell_type": "markdown",
   "metadata": {},
   "source": [
    "### Outlier"
   ]
  },
  {
   "cell_type": "code",
   "execution_count": 476,
   "metadata": {},
   "outputs": [
    {
     "data": {
      "image/png": "[encoded data removed]",
      "text/plain": [
       "<Figure size 432x288 with 1 Axes>"
      ]
     },
     "metadata": {
      "needs_background": "light"
     },
     "output_type": "display_data"
    }
   ],
   "source": [
    "sns.boxplot(df)\n",
    "plt.title('box-plot of diabetes')\n",
    "plt.savefig('box')"
   ]
  },
  {
   "cell_type": "code",
   "execution_count": 477,
   "metadata": {},
   "outputs": [],
   "source": [
    "from scipy import stats\n",
    "import numpy as np\n",
    "z = np.abs(stats.zscore(df))"
   ]
  },
  {
   "cell_type": "code",
   "execution_count": 478,
   "metadata": {},
   "outputs": [],
   "source": [
    "threshold = 3"
   ]
  },
  {
   "cell_type": "code",
   "execution_count": 479,
   "metadata": {},
   "outputs": [
    {
     "name": "stdout",
     "output_type": "stream",
     "text": [
      "(768, 9)\n",
      "(719, 9)\n"
     ]
    }
   ],
   "source": [
    "df_o = df[(z < 3).all(axis = 1)]\n",
    "print(df.shape)\n",
    "print(df_o.shape)"
   ]
  },
  {
   "cell_type": "markdown",
   "metadata": {},
   "source": [
    "## Building the neural network"
   ]
  },
  {
   "cell_type": "code",
   "execution_count": 480,
   "metadata": {},
   "outputs": [],
   "source": [
    "def linear(x):\n",
    "    return x\n",
    "\n",
    "def sigmoid( x):\n",
    "    return 1/(1 + np.exp(-x))\n",
    "\n",
    "class NeuralNetwork:\n",
    "    \n",
    "    def __init__(self, lr, max_iter, random_state=None):\n",
    "        self.lr = lr\n",
    "        self.max_iter =  max_iter\n",
    "        self.random_state = random_state\n",
    "\n",
    "    def fit(self, X, y,):\n",
    "        y = y.reshape(-1, 1)\n",
    "\n",
    "        if self.random_state:\n",
    "            np.random.seed(self.random_state)\n",
    "\n",
    "        self.W1 = np.random.rand(8, 10)\n",
    "        self.b1 = np.random.rand(10)\n",
    "        self.W2 = np.random.rand(10, 1)\n",
    "        self.b2 = np.random.rand(1)\n",
    "\n",
    "        loss_history = []\n",
    "\n",
    "        for i in range(self.max_iter):\n",
    "            Z1 = np.dot(X, self.W1) + self.b1\n",
    "            A1 = linear(Z1)\n",
    "        \n",
    "            Z2 = np.dot(A1, self.W2) + self.b2\n",
    "            y_pred = sigmoid(Z2)\n",
    "\n",
    "            loss = log_loss(y, y_pred)\n",
    "            loss_history.append(loss)   \n",
    "\n",
    "            e = (y_pred - y)\n",
    "\n",
    "            dW2 = np.dot(A1.T, e)\n",
    "            db2 = np.sum(e)\n",
    "\n",
    "            dW1 = np.dot(X.T, np.dot(e, self.W2.T))\n",
    "            db1 = np.sum(np.dot(e, self.W2.T), axis = 0)\n",
    "\n",
    "            self.W1 = self.W1 - self.lr * dW1\n",
    "            self.b1 = self.b1 - self.lr * db1\n",
    "            self.W2 = self.W2 - self.lr * dW2\n",
    "            self.b2 = self.b2 - self.lr * db2\n",
    "\n",
    "        return loss_history\n",
    "\n",
    "    def predict(self, X):\n",
    "        y_pred = (self.predict_proba(X) > 0.5).astype(int)\n",
    "        return y_pred\n",
    "    \n",
    "    def predict_proba(self, X):\n",
    "        Z1 = np.dot(X, self.W1) + self.b1\n",
    "        A1 = linear(Z1)\n",
    "        \n",
    "        Z2 = np.dot(A1, self.W2) + self.b2\n",
    "        A2 = sigmoid(Z2)\n",
    "\n",
    "        return A2\n",
    "    \n",
    "network = NeuralNetwork(0.01, 100, 685)\n",
    "loss_list = network.fit(X, y)"
   ]
  },
  {
   "cell_type": "code",
   "execution_count": 481,
   "metadata": {
    "scrolled": true
   },
   "outputs": [
    {
     "name": "stdout",
     "output_type": "stream",
     "text": [
      "              precision    recall  f1-score   support\n",
      "\n",
      "           0       0.00      0.00      0.00       500\n",
      "           1       0.35      1.00      0.52       268\n",
      "\n",
      "    accuracy                           0.35       768\n",
      "   macro avg       0.17      0.50      0.26       768\n",
      "weighted avg       0.12      0.35      0.18       768\n",
      "\n"
     ]
    }
   ],
   "source": [
    "test_preds = network.predict(X)\n",
    "print(classification_report(y, test_preds))"
   ]
  },
  {
   "cell_type": "code",
   "execution_count": 482,
   "metadata": {},
   "outputs": [
    {
     "data": {
      "image/png": "[encoded data removed]",
      "text/plain": [
       "<Figure size 432x288 with 1 Axes>"
      ]
     },
     "metadata": {
      "needs_background": "light"
     },
     "output_type": "display_data"
    }
   ],
   "source": [
    "plt.plot(loss_list)\n",
    "plt.xlabel('Iteration')\n",
    "plt.ylabel('Loss')\n",
    "plt.title('Loss of Original data')\n",
    "plt.savefig('original')"
   ]
  },
  {
   "cell_type": "markdown",
   "metadata": {},
   "source": [
    "## 1.1 Scaling -  MinMax scaler"
   ]
  },
  {
   "cell_type": "code",
   "execution_count": 483,
   "metadata": {},
   "outputs": [],
   "source": [
    "X_o = df_o.iloc[:,:-1].to_numpy()\n",
    "y_o = df_o.iloc[:, -1].to_numpy()"
   ]
  },
  {
   "cell_type": "code",
   "execution_count": 484,
   "metadata": {},
   "outputs": [],
   "source": [
    "from sklearn.preprocessing import MinMaxScaler\n",
    "scaler_1 = MinMaxScaler()"
   ]
  },
  {
   "cell_type": "code",
   "execution_count": 485,
   "metadata": {},
   "outputs": [
    {
     "data": {
      "text/plain": [
       "array([[0.46153846, 0.67096774, 0.48571429, ..., 0.44380403, 0.39696312,\n",
       "        0.61702128],\n",
       "       [0.07692308, 0.26451613, 0.4       , ..., 0.24207493, 0.19739696,\n",
       "        0.21276596],\n",
       "       [0.61538462, 0.89677419, 0.37142857, ..., 0.14697406, 0.42950108,\n",
       "        0.23404255],\n",
       "       ...,\n",
       "       [0.38461538, 0.49677419, 0.48571429, ..., 0.23054755, 0.12075199,\n",
       "        0.19148936],\n",
       "       [0.07692308, 0.52903226, 0.31428571, ..., 0.34293948, 0.19595083,\n",
       "        0.55319149],\n",
       "       [0.07692308, 0.31612903, 0.45714286, ..., 0.35158501, 0.17136659,\n",
       "        0.04255319]])"
      ]
     },
     "execution_count": 485,
     "metadata": {},
     "output_type": "execute_result"
    }
   ],
   "source": [
    "X_1= scaler_1.fit_transform(X_o)\n",
    "X_1"
   ]
  },
  {
   "cell_type": "markdown",
   "metadata": {},
   "source": [
    "## Building the neural network"
   ]
  },
  {
   "cell_type": "code",
   "execution_count": 487,
   "metadata": {},
   "outputs": [],
   "source": [
    "def linear(X):\n",
    "    return X\n",
    "\n",
    "def sigmoid(X):\n",
    "    return 1/(1 + np.exp(-X))\n",
    "\n",
    "class NeuralNetwork:\n",
    "    \n",
    "    def __init__(self, lr, max_iter, random_state=None):\n",
    "        self.lr = lr\n",
    "        self.max_iter =  max_iter\n",
    "        self.random_state = random_state\n",
    "\n",
    "    def fit(self, X_1, y_o):\n",
    "        y_o = y_o.reshape(-1, 1)\n",
    "\n",
    "        if self.random_state:\n",
    "            np.random.seed(self.random_state)\n",
    "\n",
    "        self.W1 = np.random.rand(8, 10)\n",
    "        self.b1 = np.random.rand(10)\n",
    "        self.W2 = np.random.rand(10, 1)\n",
    "        self.b2 = np.random.rand(1)\n",
    "\n",
    "        loss_history = []\n",
    "\n",
    "        for i in range(self.max_iter):\n",
    "            Z1 = np.dot(X_1, self.W1) + self.b1\n",
    "            A1 = linear(Z1)\n",
    "        \n",
    "            Z2 = np.dot(A1, self.W2) + self.b2\n",
    "            y_o_pred = sigmoid(Z2)\n",
    "\n",
    "            loss = log_loss(y_o, y_o_pred)\n",
    "            loss_history.append(loss)   \n",
    "\n",
    "            e = (y_o_pred - y_o)\n",
    "\n",
    "            dW2 = np.dot(A1.T, e)\n",
    "            db2 = np.sum(e)\n",
    "\n",
    "            dW1 = np.dot(X_1.T, np.dot(e, self.W2.T))\n",
    "            db1 = np.sum(np.dot(e, self.W2.T), axis = 0)\n",
    "\n",
    "            self.W1 = self.W1 - self.lr * dW1\n",
    "            self.b1 = self.b1 - self.lr * db1\n",
    "            self.W2 = self.W2 - self.lr * dW2\n",
    "            self.b2 = self.b2 - self.lr * db2\n",
    "\n",
    "        return loss_history\n",
    "\n",
    "    def predict(self, X_1):\n",
    "        y_o_pred = (self.predict_proba(X_1) > 0.5).astype(int)\n",
    "        return y_o_pred\n",
    "    \n",
    "    def predict_proba(self, X_1):\n",
    "        Z1 = np.dot(X_1, self.W1) + self.b1\n",
    "        A1 = linear(Z1)\n",
    "        \n",
    "        Z2 = np.dot(A1, self.W2) + self.b2\n",
    "        A2 = sigmoid(Z2)\n",
    "\n",
    "        return A2\n",
    "\n",
    "network = NeuralNetwork(0.0001, 1000, 6850)\n",
    "loss_list = network.fit(X_1, y_o)"
   ]
  },
  {
   "cell_type": "code",
   "execution_count": 489,
   "metadata": {},
   "outputs": [
    {
     "name": "stdout",
     "output_type": "stream",
     "text": [
      "              precision    recall  f1-score   support\n",
      "\n",
      "           0       0.80      0.89      0.84       477\n",
      "           1       0.72      0.55      0.62       242\n",
      "\n",
      "    accuracy                           0.78       719\n",
      "   macro avg       0.76      0.72      0.73       719\n",
      "weighted avg       0.77      0.78      0.77       719\n",
      "\n"
     ]
    }
   ],
   "source": [
    "test_preds = network.predict(X_1)\n",
    "print(classification_report(y_o, test_preds))"
   ]
  },
  {
   "cell_type": "code",
   "execution_count": 490,
   "metadata": {},
   "outputs": [
    {
     "data": {
      "image/png": "[encoded data removed]",
      "text/plain": [
       "<Figure size 432x288 with 1 Axes>"
      ]
     },
     "metadata": {
      "needs_background": "light"
     },
     "output_type": "display_data"
    }
   ],
   "source": [
    "plt.plot(loss_list)\n",
    "plt.xlabel('Iteration')\n",
    "plt.ylabel('Loss')\n",
    "plt.title('Loss of data after Min_max Scaling')\n",
    "plt.savefig('min-max_1')"
   ]
  },
  {
   "cell_type": "markdown",
   "metadata": {},
   "source": [
    "## 1.2 Standardization"
   ]
  },
  {
   "cell_type": "code",
   "execution_count": 491,
   "metadata": {},
   "outputs": [],
   "source": [
    "from sklearn.preprocessing import StandardScaler\n",
    "#from sklearn import preprocessing\n",
    "scaler_2 = StandardScaler()"
   ]
  },
  {
   "cell_type": "code",
   "execution_count": 492,
   "metadata": {},
   "outputs": [
    {
     "data": {
      "text/plain": [
       "array([[ 0.63994726,  0.86510807, -0.03351824, ...,  0.16629174,\n",
       "         0.46849198,  1.4259954 ],\n",
       "       [-0.84488505, -1.20616153, -0.52985903, ..., -0.85253118,\n",
       "        -0.36506078, -0.19067191],\n",
       "       [ 1.23388019,  2.0158134 , -0.69530596, ..., -1.33283341,\n",
       "         0.60439732, -0.10558415],\n",
       "       ...,\n",
       "       [ 0.3429808 , -0.0225789 , -0.03351824, ..., -0.91074963,\n",
       "        -0.68519336, -0.27575966],\n",
       "       [-0.84488505,  0.14180757, -1.02619983, ..., -0.34311972,\n",
       "        -0.37110101,  1.17073215],\n",
       "       [-0.84488505, -0.94314317, -0.19896517, ..., -0.29945588,\n",
       "        -0.47378505, -0.87137393]])"
      ]
     },
     "execution_count": 492,
     "metadata": {},
     "output_type": "execute_result"
    }
   ],
   "source": [
    "scaled_2 = scaler_2.fit_transform(X)\n",
    "X_2 = scaled_2\n",
    "X_2"
   ]
  },
  {
   "cell_type": "code",
   "execution_count": 493,
   "metadata": {},
   "outputs": [
    {
     "data": {
      "text/plain": [
       "(1.8518173106052416e-16, 1.0)"
      ]
     },
     "execution_count": 493,
     "metadata": {},
     "output_type": "execute_result"
    }
   ],
   "source": [
    "np.mean(X_2),np.std(X_2)"
   ]
  },
  {
   "cell_type": "markdown",
   "metadata": {},
   "source": [
    "## Building the neural network"
   ]
  },
  {
   "cell_type": "code",
   "execution_count": 494,
   "metadata": {},
   "outputs": [],
   "source": [
    "def linear(X):\n",
    "    return X\n",
    "\n",
    "def sigmoid(X):\n",
    "    return 1/(1 + np.exp(-X))\n",
    "\n",
    "class NeuralNetwork:\n",
    "    \n",
    "    def __init__(self, lr, max_iter, random_state=None):\n",
    "        self.lr = lr\n",
    "        self.max_iter =  max_iter\n",
    "        self.random_state = random_state\n",
    "\n",
    "    def fit(self, X_2, y):\n",
    "        y = y.reshape(-1, 1)\n",
    "\n",
    "        if self.random_state:\n",
    "            np.random.seed(self.random_state)\n",
    "\n",
    "        self.W1 = np.random.rand(8, 10)\n",
    "        self.b1 = np.random.rand(10)\n",
    "        self.W2 = np.random.rand(10, 1)\n",
    "        self.b2 = np.random.rand(1)\n",
    "\n",
    "        loss_history = []\n",
    "\n",
    "        for i in range(self.max_iter):\n",
    "            Z1 = np.dot(X_2, self.W1) + self.b1\n",
    "            A1 = linear(Z1)\n",
    "        \n",
    "            Z2 = np.dot(A1, self.W2) + self.b2\n",
    "            y_pred = sigmoid(Z2)\n",
    "\n",
    "            loss = log_loss(y, y_pred)\n",
    "            loss_history.append(loss)   \n",
    "\n",
    "            e = (y_pred - y)\n",
    "\n",
    "            dW2 = np.dot(A1.T, e)\n",
    "            db2 = np.sum(e)\n",
    "\n",
    "            dW1 = np.dot(X_2.T, np.dot(e, self.W2.T))\n",
    "            db1 = np.sum(np.dot(e, self.W2.T), axis = 0)\n",
    "\n",
    "            self.W1 = self.W1 - self.lr * dW1\n",
    "            self.b1 = self.b1 - self.lr * db1\n",
    "            self.W2 = self.W2 - self.lr * dW2\n",
    "            self.b2 = self.b2 - self.lr * db2\n",
    "\n",
    "        return loss_history\n",
    "\n",
    "    def predict(self, X_2):\n",
    "        y_pred = (self.predict_proba(X_2) > 0.5).astype(int)\n",
    "        return y_pred\n",
    "    \n",
    "    def predict_proba(self, X_2):\n",
    "        Z1 = np.dot(X_2, self.W1) + self.b1\n",
    "        A1 = linear(Z1)\n",
    "        \n",
    "        Z2 = np.dot(A1, self.W2) + self.b2\n",
    "        A2 = sigmoid(Z2)\n",
    "\n",
    "        return A2\n",
    "    \n",
    "network = NeuralNetwork(0.0001, 1000, 6850)\n",
    "loss_list = network.fit(X_2, y)"
   ]
  },
  {
   "cell_type": "code",
   "execution_count": 495,
   "metadata": {},
   "outputs": [
    {
     "name": "stdout",
     "output_type": "stream",
     "text": [
      "              precision    recall  f1-score   support\n",
      "\n",
      "           0       0.80      0.88      0.84       500\n",
      "           1       0.73      0.58      0.64       268\n",
      "\n",
      "    accuracy                           0.78       768\n",
      "   macro avg       0.76      0.73      0.74       768\n",
      "weighted avg       0.77      0.78      0.77       768\n",
      "\n"
     ]
    }
   ],
   "source": [
    "test_preds = network.predict(X_2)\n",
    "print(classification_report(y, test_preds))"
   ]
  },
  {
   "cell_type": "code",
   "execution_count": 496,
   "metadata": {},
   "outputs": [
    {
     "data": {
      "image/png": "[encoded data removed]",
      "text/plain": [
       "<Figure size 432x288 with 1 Axes>"
      ]
     },
     "metadata": {
      "needs_background": "light"
     },
     "output_type": "display_data"
    }
   ],
   "source": [
    "plt.plot(loss_list)\n",
    "plt.xlabel('Iteration')\n",
    "plt.ylabel('Loss')\n",
    "plt.title('Loss of data afte Standardization')\n",
    "plt.savefig('standard_1')"
   ]
  },
  {
   "cell_type": "markdown",
   "metadata": {},
   "source": [
    "## 1.3 Decorrelation"
   ]
  },
  {
   "cell_type": "code",
   "execution_count": 497,
   "metadata": {},
   "outputs": [
    {
     "data": {
      "image/png": "[encoded data removed]",
      "text/plain": [
       "<Figure size 432x288 with 2 Axes>"
      ]
     },
     "metadata": {
      "needs_background": "light"
     },
     "output_type": "display_data"
    }
   ],
   "source": [
    "cmap = df.corr()\n",
    "sns.heatmap(cmap)\n",
    "plt.savefig('corr_1')"
   ]
  },
  {
   "cell_type": "code",
   "execution_count": 498,
   "metadata": {},
   "outputs": [
    {
     "data": {
      "text/plain": [
       "array([[0.37948962, 0.51340294, 0.39589566, ..., 0.36728132, 0.33430068,\n",
       "        0.48058574],\n",
       "       [0.07410797, 0.23468954, 0.33647224, ..., 0.21678331, 0.18015   ,\n",
       "        0.19290367],\n",
       "       [0.47957308, 0.64015465, 0.31585295, ..., 0.13712723, 0.35732549,\n",
       "        0.21029541],\n",
       "       ...,\n",
       "       [0.3254224 , 0.40331225, 0.39589566, ..., 0.20745923, 0.11399988,\n",
       "        0.17520409],\n",
       "       [0.07410797, 0.42463502, 0.27329333, ..., 0.29486085, 0.17894154,\n",
       "        0.44031184],\n",
       "       [0.07410797, 0.27469488, 0.37647757, ..., 0.30127799, 0.1581711 ,\n",
       "        0.0416727 ]])"
      ]
     },
     "execution_count": 498,
     "metadata": {},
     "output_type": "execute_result"
    }
   ],
   "source": [
    "from sklearn.preprocessing import FunctionTransformer\n",
    "transformer = FunctionTransformer(np.log1p)\n",
    "log_X_3 = transformer.transform(X_1)\n",
    "log_X_3"
   ]
  },
  {
   "cell_type": "code",
   "execution_count": 499,
   "metadata": {},
   "outputs": [
    {
     "data": {
      "text/plain": [
       "array([[ 0.323049  ,  0.0704467 ,  0.07627148, ...,  0.071198  ,\n",
       "        -0.08093312, -0.01580399],\n",
       "       [-0.17605508, -0.07070114, -0.00603889, ...,  0.13398397,\n",
       "         0.07516316, -0.03679618],\n",
       "       [ 0.17617171, -0.07293251,  0.17469042, ..., -0.02355183,\n",
       "        -0.12039065, -0.14857484],\n",
       "       ...,\n",
       "       [-0.01144057, -0.18798122, -0.03385736, ..., -0.07199899,\n",
       "        -0.03060818, -0.03259811],\n",
       "       [ 0.02184686, -0.00485302, -0.01048819, ...,  0.20080056,\n",
       "        -0.07893678,  0.05095479],\n",
       "       [-0.24290969,  0.01625297, -0.07940953, ...,  0.0466495 ,\n",
       "         0.07813308, -0.04127255]])"
      ]
     },
     "execution_count": 499,
     "metadata": {},
     "output_type": "execute_result"
    }
   ],
   "source": [
    "from sklearn.decomposition import PCA\n",
    "model = PCA()\n",
    "\n",
    "X_3 = model.fit_transform(log_X_3)\n",
    "X_3"
   ]
  },
  {
   "cell_type": "code",
   "execution_count": 500,
   "metadata": {},
   "outputs": [
    {
     "data": {
      "image/png": "[encoded data removed]",
      "text/plain": [
       "<Figure size 432x288 with 2 Axes>"
      ]
     },
     "metadata": {
      "needs_background": "light"
     },
     "output_type": "display_data"
    }
   ],
   "source": [
    "d = pd.DataFrame(X_3)\n",
    "cmap = d.corr()\n",
    "sns.heatmap(cmap)\n",
    "plt.savefig('corr_11')"
   ]
  },
  {
   "cell_type": "markdown",
   "metadata": {},
   "source": [
    "## Building the neural network"
   ]
  },
  {
   "cell_type": "code",
   "execution_count": 501,
   "metadata": {},
   "outputs": [],
   "source": [
    "def linear(X):\n",
    "    return X\n",
    "\n",
    "def sigmoid(X):\n",
    "    return 1/(1 + np.exp(-X))\n",
    "\n",
    "class NeuralNetwork:\n",
    "    \n",
    "    def __init__(self, lr, max_iter, random_state=None):\n",
    "        self.lr = lr\n",
    "        self.max_iter =  max_iter\n",
    "        self.random_state = random_state\n",
    "\n",
    "    def fit(self, X_3, y_o):\n",
    "        y_o = y_o.reshape(-1, 1)\n",
    "\n",
    "        if self.random_state:\n",
    "            np.random.seed(self.random_state)\n",
    "\n",
    "        self.W1 = np.random.rand(8, 10)\n",
    "        self.b1 = np.random.rand(10)\n",
    "        self.W2 = np.random.rand(10, 1)\n",
    "        self.b2 = np.random.rand(1)\n",
    "\n",
    "        loss_history = []\n",
    "\n",
    "        for i in range(self.max_iter):\n",
    "            Z1 = np.dot(X_3, self.W1) + self.b1\n",
    "            A1 = linear(Z1)\n",
    "        \n",
    "            Z2 = np.dot(A1, self.W2) + self.b2\n",
    "            y_o_pred = sigmoid(Z2)\n",
    "\n",
    "            loss = log_loss(y_o, y_o_pred)\n",
    "            loss_history.append(loss)   \n",
    "\n",
    "            e = (y_o_pred - y_o)\n",
    "\n",
    "            dW2 = np.dot(A1.T, e)\n",
    "            db2 = np.sum(e)\n",
    "\n",
    "            dW1 = np.dot(X_3.T, np.dot(e, self.W2.T))\n",
    "            db1 = np.sum(np.dot(e, self.W2.T), axis = 0)\n",
    "\n",
    "            self.W1 = self.W1 - self.lr * dW1\n",
    "            self.b1 = self.b1 - self.lr * db1\n",
    "            self.W2 = self.W2 - self.lr * dW2\n",
    "            self.b2 = self.b2 - self.lr * db2\n",
    "\n",
    "        return loss_history\n",
    "\n",
    "    def predict(self, X_3):\n",
    "        y_o_pred = (self.predict_proba(X_3) > 0.5).astype(int)\n",
    "        return y_o_pred\n",
    "    \n",
    "    def predict_proba(self, X_3):\n",
    "        Z1 = np.dot(X_3, self.W1) + self.b1\n",
    "        A1 = linear(Z1)\n",
    "        \n",
    "        Z2 = np.dot(A1, self.W2) + self.b2\n",
    "        A2 = sigmoid(Z2)\n",
    "\n",
    "        return A2\n",
    "    \n",
    "network = NeuralNetwork(0.0001, 1000, 6850)\n",
    "loss_list = network.fit(X_3, y_o)"
   ]
  },
  {
   "cell_type": "code",
   "execution_count": 502,
   "metadata": {},
   "outputs": [
    {
     "name": "stdout",
     "output_type": "stream",
     "text": [
      "              precision    recall  f1-score   support\n",
      "\n",
      "           0       0.79      0.88      0.83       477\n",
      "           1       0.69      0.54      0.60       242\n",
      "\n",
      "    accuracy                           0.76       719\n",
      "   macro avg       0.74      0.71      0.72       719\n",
      "weighted avg       0.76      0.76      0.76       719\n",
      "\n"
     ]
    }
   ],
   "source": [
    "test_preds = network.predict(X_3)\n",
    "print(classification_report(y_o, test_preds))"
   ]
  },
  {
   "cell_type": "code",
   "execution_count": 503,
   "metadata": {},
   "outputs": [
    {
     "data": {
      "image/png": "[encoded data removed]",
      "text/plain": [
       "<Figure size 432x288 with 1 Axes>"
      ]
     },
     "metadata": {
      "needs_background": "light"
     },
     "output_type": "display_data"
    }
   ],
   "source": [
    "plt.plot(loss_list)\n",
    "plt.xlabel('Iteration')\n",
    "plt.ylabel('Loss')\n",
    "plt.title('Loss after Decorrelation')\n",
    "plt.savefig('decor')"
   ]
  },
  {
   "cell_type": "markdown",
   "metadata": {},
   "source": [
    "## 1.4 Log-transformation"
   ]
  },
  {
   "cell_type": "code",
   "execution_count": 504,
   "metadata": {},
   "outputs": [
    {
     "data": {
      "image/png": "[encoded data removed]",
      "text/plain": [
       "<Figure size 648x432 with 1 Axes>"
      ]
     },
     "metadata": {
      "needs_background": "light"
     },
     "output_type": "display_data"
    }
   ],
   "source": [
    "from statlearning import plot_dist\n",
    "plot_dist(X)\n",
    "plt.title('Distribution of X')\n",
    "plt.savefig('without log')"
   ]
  },
  {
   "cell_type": "code",
   "execution_count": 505,
   "metadata": {},
   "outputs": [
    {
     "data": {
      "text/plain": [
       "array([[1.94591015, 5.00394631, 4.29045944, ..., 3.54385368, 0.48673783,\n",
       "        3.93182563],\n",
       "       [0.69314718, 4.4543473 , 4.20469262, ..., 3.31781577, 0.30084506,\n",
       "        3.4657359 ],\n",
       "       [2.19722458, 5.21493576, 4.17438727, ..., 3.19047635, 0.51402051,\n",
       "        3.49650756],\n",
       "       ...,\n",
       "       [1.79175947, 4.80402104, 4.29045944, ..., 3.30321697, 0.21913553,\n",
       "        3.4339872 ],\n",
       "       [0.69314718, 4.84418709, 4.11087386, ..., 3.43720782, 0.29936358,\n",
       "        3.87120101],\n",
       "       [0.69314718, 4.54329478, 4.26267988, ..., 3.44680789, 0.27383667,\n",
       "        3.17805383]])"
      ]
     },
     "execution_count": 505,
     "metadata": {},
     "output_type": "execute_result"
    }
   ],
   "source": [
    "from sklearn.preprocessing import FunctionTransformer\n",
    "transformer = FunctionTransformer(np.log1p)\n",
    "X_4 = transformer.transform(X)\n",
    "X_4"
   ]
  },
  {
   "cell_type": "code",
   "execution_count": 506,
   "metadata": {},
   "outputs": [
    {
     "data": {
      "image/png": "[encoded data removed]",
      "text/plain": [
       "<Figure size 648x432 with 1 Axes>"
      ]
     },
     "metadata": {
      "needs_background": "light"
     },
     "output_type": "display_data"
    }
   ],
   "source": [
    "#log-transformation on y\n",
    "plot_dist(X_4)\n",
    "plt.title('Distribution of X After log-transformation')\n",
    "plt.savefig('with log')"
   ]
  },
  {
   "cell_type": "markdown",
   "metadata": {},
   "source": [
    "## Building the neural network"
   ]
  },
  {
   "cell_type": "code",
   "execution_count": 507,
   "metadata": {},
   "outputs": [],
   "source": [
    "def linear(X):\n",
    "    return X\n",
    "\n",
    "def sigmoid(X):\n",
    "    return 1/(1 + np.exp(-X))\n",
    "\n",
    "class NeuralNetwork:\n",
    "    \n",
    "    def __init__(self, lr, max_iter, random_state=None):\n",
    "        self.lr = lr\n",
    "        self.max_iter =  max_iter\n",
    "        self.random_state = random_state\n",
    "\n",
    "    def fit(self, X_4, y):\n",
    "        y = y.reshape(-1, 1)\n",
    "\n",
    "        if self.random_state:\n",
    "            np.random.seed(self.random_state)\n",
    "\n",
    "        self.W1 = np.random.rand(8, 10)\n",
    "        self.b1 = np.random.rand(10)\n",
    "        self.W2 = np.random.rand(10, 1)\n",
    "        self.b2 = np.random.rand(1)\n",
    "\n",
    "        loss_history = []\n",
    "\n",
    "        for i in range(self.max_iter):\n",
    "            Z1 = np.dot(X_4, self.W1) + self.b1\n",
    "            A1 = linear(Z1)\n",
    "        \n",
    "            Z2 = np.dot(A1, self.W2) + self.b2\n",
    "            y_pred = sigmoid(Z2)\n",
    "\n",
    "            loss = log_loss(y, y_pred)\n",
    "            loss_history.append(loss)   \n",
    "\n",
    "            e = (y_pred - y)\n",
    "\n",
    "            dW2 = np.dot(A1.T, e)\n",
    "            db2 = np.sum(e)\n",
    "\n",
    "            dW1 = np.dot(X_4.T, np.dot(e, self.W2.T))\n",
    "            db1 = np.sum(np.dot(e, self.W2.T), axis = 0)\n",
    "\n",
    "            self.W1 = self.W1 - self.lr * dW1\n",
    "            self.b1 = self.b1 - self.lr * db1\n",
    "            self.W2 = self.W2 - self.lr * dW2\n",
    "            self.b2 = self.b2 - self.lr * db2\n",
    "\n",
    "        return loss_history\n",
    "\n",
    "    def predict(self, X_4):\n",
    "        y_pred = (self.predict_proba(X_4) > 0.5).astype(int)\n",
    "        return y_pred\n",
    "    \n",
    "    def predict_proba(self, X_4):\n",
    "        Z1 = np.dot(X_4, self.W1) + self.b1\n",
    "        A1 = linear(Z1)\n",
    "        \n",
    "        Z2 = np.dot(A1, self.W2) + self.b2\n",
    "        A2 = sigmoid(Z2)\n",
    "\n",
    "        return A2\n",
    "    \n",
    "network = NeuralNetwork(0.0001, 1000, 6850)\n",
    "loss_list = network.fit(X_4, y)"
   ]
  },
  {
   "cell_type": "code",
   "execution_count": 508,
   "metadata": {},
   "outputs": [
    {
     "name": "stdout",
     "output_type": "stream",
     "text": [
      "              precision    recall  f1-score   support\n",
      "\n",
      "           0       0.78      0.77      0.78       500\n",
      "           1       0.58      0.60      0.59       268\n",
      "\n",
      "    accuracy                           0.71       768\n",
      "   macro avg       0.68      0.69      0.68       768\n",
      "weighted avg       0.71      0.71      0.71       768\n",
      "\n"
     ]
    }
   ],
   "source": [
    "test_preds = network.predict(X_4)\n",
    "print(classification_report(y, test_preds))"
   ]
  },
  {
   "cell_type": "code",
   "execution_count": 509,
   "metadata": {},
   "outputs": [
    {
     "data": {
      "image/png": "[encoded data removed]",
      "text/plain": [
       "<Figure size 432x288 with 1 Axes>"
      ]
     },
     "metadata": {
      "needs_background": "light"
     },
     "output_type": "display_data"
    }
   ],
   "source": [
    "plt.plot(loss_list)\n",
    "plt.xlabel('Iteration')\n",
    "plt.ylabel('Loss')\n",
    "plt.title('Loss after Log transformation')\n",
    "plt.savefig('log')"
   ]
  },
  {
   "cell_type": "markdown",
   "metadata": {},
   "source": [
    "# 2. Synthetic database"
   ]
  },
  {
   "cell_type": "code",
   "execution_count": 423,
   "metadata": {},
   "outputs": [],
   "source": [
    "X = np.array([[5.5029384,0.67,1.34],\n",
    "             [9.7,224.35,1.01],\n",
    "             [1.33,0.058,1.24],\n",
    "             [1.11,13.4,1.338490],\n",
    "             [0.09,7.4857,1.31],\n",
    "             [1.44,1.76,49000.3]])\n",
    "y = np.array([[0], [0], [1], [0], [0], [1]])\n",
    "np.random.seed(0)"
   ]
  },
  {
   "cell_type": "markdown",
   "metadata": {},
   "source": [
    "## Buliding the neural network"
   ]
  },
  {
   "cell_type": "code",
   "execution_count": 397,
   "metadata": {},
   "outputs": [
    {
     "name": "stdout",
     "output_type": "stream",
     "text": [
      "[[0.00504132]\n",
      " [0.00457304]\n",
      " [0.98919502]\n",
      " [0.00455511]\n",
      " [0.00460163]\n",
      " [0.99781878]]\n"
     ]
    },
    {
     "data": {
      "image/png": "[encoded data removed]",
      "text/plain": [
       "<Figure size 1080x432 with 1 Axes>"
      ]
     },
     "metadata": {
      "needs_background": "light"
     },
     "output_type": "display_data"
    }
   ],
   "source": [
    "def sigmoid(X):\n",
    "    return 1.0/(1+ np.exp(-X))\n",
    "\n",
    "def sigmoid_derivative(X):\n",
    "    return X * (1.0 - X)\n",
    "\n",
    "class NeuralNetwork:\n",
    "    def __init__(self, X_11, y):\n",
    "        self.input = X_11\n",
    "        self.y = y\n",
    "        self.output = np.zeros(self.y.shape)\n",
    "        \n",
    "        #initialize weights\n",
    "        self.weights1 = np.random.rand(self.input.shape[1],6) \n",
    "        self.weights2 = np.random.rand(6,1)   \n",
    "        \n",
    "        #record the error of each epoch\n",
    "        self.error_history = []\n",
    "        self.epoch_list = []\n",
    "\n",
    "    def feedforward(self):\n",
    "        self.layer1 = sigmoid(np.dot(self.input, self.weights1))\n",
    "        self.output = sigmoid(np.dot(self.layer1, self.weights2))\n",
    "\n",
    "    def backprop(self):\n",
    "        # application of the chain rule to find derivative of the loss function with respect to weights2 and weights1\n",
    "        d_weights2 = np.dot(self.layer1.T, (2*(self.y - self.output) * sigmoid_derivative(self.output)))\n",
    "        d_weights1 = np.dot(self.input.T, (np.dot(2*(self.y - self.output) * sigmoid_derivative(self.output), self.weights2.T) * sigmoid_derivative(self.layer1)))\n",
    "\n",
    "        # update the weights with the derivative (slope) of the loss function\n",
    "        self.weights1 += d_weights1\n",
    "        self.weights2 += d_weights2\n",
    "    \n",
    "    #train the nn for 3000 iterations\n",
    "    def train(self,epoch = 3000):\n",
    "        for epoch in range (epoch):\n",
    "            self.feedforward()\n",
    "            self.backprop()\n",
    "            \n",
    "            #keep track of the error history over each epoch\n",
    "            self.error_history.append(np.average(np.abs(self.y - self.output)))\n",
    "            self.epoch_list.append(epoch)\n",
    "            \n",
    "            \n",
    "nn = NeuralNetwork(X,y)\n",
    "nn.train()\n",
    "print(nn.output)\n",
    "    \n",
    "#plot the error over the entire training duration\n",
    "plt.figure(figsize = (15,6))\n",
    "plt.plot(nn.epoch_list, nn.error_history)\n",
    "plt.xlabel('Epoch')\n",
    "plt.ylabel('Error')\n",
    "plt.title('Loss of Original Data')\n",
    "plt.savefig('s_original')"
   ]
  },
  {
   "cell_type": "markdown",
   "metadata": {},
   "source": [
    "## 2.1 Scaling -  MinMax scaler "
   ]
  },
  {
   "cell_type": "code",
   "execution_count": 446,
   "metadata": {},
   "outputs": [
    {
     "data": {
      "text/plain": [
       "array([[5.63261020e-01, 2.72858595e-03, 6.73479146e-06],\n",
       "       [1.00000000e+00, 1.00000000e+00, 0.00000000e+00],\n",
       "       [1.29032258e-01, 0.00000000e+00, 4.69394557e-06],\n",
       "       [1.06139438e-01, 5.94849571e-02, 6.70397469e-06],\n",
       "       [0.00000000e+00, 3.31162057e-02, 6.12253769e-06],\n",
       "       [1.40478668e-01, 7.58832237e-03, 1.00000000e+00]])"
      ]
     },
     "execution_count": 446,
     "metadata": {},
     "output_type": "execute_result"
    }
   ],
   "source": [
    "from sklearn.preprocessing import MinMaxScaler\n",
    "\n",
    "scaler_11 = MinMaxScaler()\n",
    "\n",
    "X_11 = scaler_11.fit_transform(X)\n",
    "X_11"
   ]
  },
  {
   "cell_type": "markdown",
   "metadata": {},
   "source": [
    "## Building the neural network"
   ]
  },
  {
   "cell_type": "code",
   "execution_count": 447,
   "metadata": {},
   "outputs": [
    {
     "name": "stdout",
     "output_type": "stream",
     "text": [
      "[[0.00810782]\n",
      " [0.00320047]\n",
      " [0.98976176]\n",
      " [0.00319992]\n",
      " [0.00345111]\n",
      " [0.99861226]]\n"
     ]
    },
    {
     "data": {
      "image/png": "[encoded data removed]",
      "text/plain": [
       "<Figure size 1080x432 with 1 Axes>"
      ]
     },
     "metadata": {
      "needs_background": "light"
     },
     "output_type": "display_data"
    }
   ],
   "source": [
    "def sigmoid(X):\n",
    "    return 1.0/(1+ np.exp(-X))\n",
    "\n",
    "def sigmoid_derivative(X):\n",
    "    return X * (1.0 - X)\n",
    "\n",
    "class NeuralNetwork:\n",
    "    def __init__(self, X_11, y):\n",
    "        self.input = X_11\n",
    "        self.y = y\n",
    "        self.output = np.zeros(self.y.shape)\n",
    "        \n",
    "        #initialize weights\n",
    "        self.weights1 = np.random.rand(self.input.shape[1],6) \n",
    "        self.weights2 = np.random.rand(6,1)   \n",
    "        \n",
    "        #record the error of each epoch\n",
    "        self.error_history = []\n",
    "        self.epoch_list = []\n",
    "\n",
    "    def feedforward(self):\n",
    "        self.layer1 = sigmoid(np.dot(self.input, self.weights1))\n",
    "        self.output = sigmoid(np.dot(self.layer1, self.weights2))\n",
    "\n",
    "    def backprop(self):\n",
    "        # application of the chain rule to find derivative of the loss function with respect to weights2 and weights1\n",
    "        d_weights2 = np.dot(self.layer1.T, (2*(self.y - self.output) * sigmoid_derivative(self.output)))\n",
    "        d_weights1 = np.dot(self.input.T, (np.dot(2*(self.y - self.output) * sigmoid_derivative(self.output), self.weights2.T) * sigmoid_derivative(self.layer1)))\n",
    "\n",
    "        # update the weights with the derivative (slope) of the loss function\n",
    "        self.weights1 += d_weights1\n",
    "        self.weights2 += d_weights2\n",
    "    \n",
    "    #train the nn for 3000 iterations\n",
    "    def train(self,epoch = 3000):\n",
    "          for epoch in range (epoch):\n",
    "            self.feedforward()\n",
    "            self.backprop()\n",
    "            \n",
    "            #keep track of the error history over each epoch\n",
    "            self.error_history.append(np.average(np.abs(self.y - self.output)))\n",
    "            self.epoch_list.append(epoch)\n",
    "            \n",
    "            \n",
    "nn = NeuralNetwork(X,y)\n",
    "nn.train()\n",
    "print(nn.output)\n",
    "\n",
    "#plot the error over the entire training duration\n",
    "plt.figure(figsize = (15,6))\n",
    "plt.plot(nn.epoch_list, nn.error_history)\n",
    "plt.title('Loss after Min-max Scaling')\n",
    "plt.xlabel('Epoch')\n",
    "plt.ylabel('Error')\n",
    "plt.savefig('min_max_2')"
   ]
  },
  {
   "cell_type": "markdown",
   "metadata": {},
   "source": [
    "## 2.2 Standardization"
   ]
  },
  {
   "cell_type": "code",
   "execution_count": 448,
   "metadata": {},
   "outputs": [
    {
     "data": {
      "text/plain": [
       "array([[ 0.68446835, -0.49533131, -0.44720854],\n",
       "       [ 1.92946064,  2.23246581, -0.44722661],\n",
       "       [-0.55336818, -0.50279471, -0.44721402],\n",
       "       [-0.61862772, -0.34008785, -0.44720862],\n",
       "       [-0.92119467, -0.41221326, -0.44721018],\n",
       "       [-0.52073841, -0.48203867,  2.23606798]])"
      ]
     },
     "execution_count": 448,
     "metadata": {},
     "output_type": "execute_result"
    }
   ],
   "source": [
    "from sklearn.preprocessing import StandardScaler\n",
    "\n",
    "scaler_22 = StandardScaler()\n",
    "\n",
    "X_22 = scaler_22.fit_transform(X)\n",
    "\n",
    "X_22"
   ]
  },
  {
   "cell_type": "markdown",
   "metadata": {},
   "source": [
    "## Building the neural network"
   ]
  },
  {
   "cell_type": "code",
   "execution_count": 449,
   "metadata": {},
   "outputs": [
    {
     "name": "stdout",
     "output_type": "stream",
     "text": [
      "[[0.00675954]\n",
      " [0.00277673]\n",
      " [0.99159072]\n",
      " [0.00277806]\n",
      " [0.00297203]\n",
      " [0.99944765]]\n"
     ]
    },
    {
     "data": {
      "image/png": "[encoded data removed]",
      "text/plain": [
       "<Figure size 1080x432 with 1 Axes>"
      ]
     },
     "metadata": {
      "needs_background": "light"
     },
     "output_type": "display_data"
    }
   ],
   "source": [
    "def sigmoid(X):\n",
    "    return 1.0/(1+ np.exp(-X))\n",
    "\n",
    "def sigmoid_derivative(X):\n",
    "    return X * (1.0 - X)\n",
    "\n",
    "class NeuralNetwork:\n",
    "    def __init__(self, X_22, y):\n",
    "        self.input = X_22\n",
    "        self.y = y\n",
    "        self.output = np.zeros(self.y.shape)\n",
    "        \n",
    "        #initialize weights\n",
    "        self.weights1 = np.random.rand(self.input.shape[1],6) \n",
    "        self.weights2 = np.random.rand(6,1)   \n",
    "        \n",
    "        #record the error of each epoch\n",
    "        self.error_history = []\n",
    "        self.epoch_list = []\n",
    "\n",
    "    def feedforward(self):\n",
    "        self.layer1 = sigmoid(np.dot(self.input, self.weights1))\n",
    "        self.output = sigmoid(np.dot(self.layer1, self.weights2))\n",
    "\n",
    "    def backprop(self):\n",
    "        # application of the chain rule to find derivative of the loss function with respect to weights2 and weights1\n",
    "        d_weights2 = np.dot(self.layer1.T, (2*(self.y - self.output) * sigmoid_derivative(self.output)))\n",
    "        d_weights1 = np.dot(self.input.T, (np.dot(2*(self.y - self.output) * sigmoid_derivative(self.output), self.weights2.T) * sigmoid_derivative(self.layer1)))\n",
    "\n",
    "        # update the weights with the derivative (slope) of the loss function\n",
    "        self.weights1 += d_weights1\n",
    "        self.weights2 += d_weights2\n",
    "    \n",
    "    #train the nn for 3000 iterations\n",
    "    def train(self,epoch = 3000):\n",
    "        for epoch in range (epoch):\n",
    "            self.feedforward()\n",
    "            self.backprop()\n",
    "            \n",
    "            #keep track of the error history over each epoch\n",
    "            self.error_history.append(np.average(np.abs(self.y - self.output)))\n",
    "            self.epoch_list.append(epoch)\n",
    "            \n",
    "            \n",
    "nn = NeuralNetwork(X,y)\n",
    "nn.train()\n",
    "print(nn.output)  \n",
    "\n",
    "#plot the error over the entire training duration\n",
    "plt.figure(figsize = (15,6))\n",
    "plt.plot(nn.epoch_list, nn.error_history)\n",
    "plt.xlabel('Epoch')\n",
    "plt.ylabel('Error')\n",
    "plt.title('Loss after Standarization')\n",
    "plt.savefig('scale_2')"
   ]
  },
  {
   "cell_type": "markdown",
   "metadata": {},
   "source": [
    "## 2.3 Decorrelation"
   ]
  },
  {
   "cell_type": "code",
   "execution_count": 450,
   "metadata": {},
   "outputs": [
    {
     "data": {
      "text/plain": [
       "array([[-8.16637336e+03, -4.84270024e+01,  3.62399636e+00],\n",
       "       [-8.16692008e+03,  1.75264593e+02,  1.25733675e-01],\n",
       "       [-8.16647259e+03, -4.91822532e+01, -5.25426353e-01],\n",
       "       [-8.16638700e+03, -3.58556232e+01, -1.20415544e+00],\n",
       "       [-8.16640972e+03, -4.18015292e+01, -2.02014675e+00],\n",
       "       [ 4.08325628e+04,  1.81495810e-03, -1.49574224e-06]])"
      ]
     },
     "execution_count": 450,
     "metadata": {},
     "output_type": "execute_result"
    }
   ],
   "source": [
    "from sklearn.decomposition import PCA\n",
    "\n",
    "pca = PCA()\n",
    "\n",
    "X_33 = pca.fit_transform(X)\n",
    "X_33"
   ]
  },
  {
   "cell_type": "markdown",
   "metadata": {},
   "source": [
    "## Building the neural network"
   ]
  },
  {
   "cell_type": "code",
   "execution_count": 451,
   "metadata": {},
   "outputs": [
    {
     "name": "stdout",
     "output_type": "stream",
     "text": [
      "[[0.00676994]\n",
      " [0.00279138]\n",
      " [0.99100275]\n",
      " [0.00279137]\n",
      " [0.00294178]\n",
      " [0.99824701]]\n"
     ]
    },
    {
     "data": {
      "image/png": "[encoded data removed]",
      "text/plain": [
       "<Figure size 1080x432 with 1 Axes>"
      ]
     },
     "metadata": {
      "needs_background": "light"
     },
     "output_type": "display_data"
    }
   ],
   "source": [
    "def sigmoid(X):\n",
    "    return 1.0/(1+ np.exp(-X))\n",
    "\n",
    "def sigmoid_derivative(X):\n",
    "    return X * (1.0 - X)\n",
    "\n",
    "class NeuralNetwork:\n",
    "    def __init__(self, X_33, y):\n",
    "        self.input = X_33\n",
    "        self.y = y\n",
    "        self.output = np.zeros(self.y.shape)\n",
    "        \n",
    "        #initialize weights\n",
    "        self.weights1 = np.random.rand(self.input.shape[1],6) \n",
    "        self.weights2 = np.random.rand(6,1)   \n",
    "        \n",
    "        #record the error of each epoch\n",
    "        self.error_history = []\n",
    "        self.epoch_list = []\n",
    "\n",
    "    def feedforward(self):\n",
    "        self.layer1 = sigmoid(np.dot(self.input, self.weights1))\n",
    "        self.output = sigmoid(np.dot(self.layer1, self.weights2))\n",
    "\n",
    "    def backprop(self):\n",
    "        # application of the chain rule to find derivative of the loss function with respect to weights2 and weights1\n",
    "        d_weights2 = np.dot(self.layer1.T, (2*(self.y - self.output) * sigmoid_derivative(self.output)))\n",
    "        d_weights1 = np.dot(self.input.T, (np.dot(2*(self.y - self.output) * sigmoid_derivative(self.output), self.weights2.T) * sigmoid_derivative(self.layer1)))\n",
    "\n",
    "        # update the weights with the derivative (slope) of the loss function\n",
    "        self.weights1 += d_weights1\n",
    "        self.weights2 += d_weights2\n",
    "    \n",
    "    #train the nn for 3000 iterations\n",
    "    def train(self,epoch = 3000):\n",
    "        for epoch in range (epoch):\n",
    "            self.feedforward()\n",
    "            self.backprop()\n",
    "            \n",
    "            #keep track of the error history over each epoch\n",
    "            self.error_history.append(np.average(np.abs(self.y - self.output)))\n",
    "            self.epoch_list.append(epoch)\n",
    "            \n",
    "            \n",
    "nn = NeuralNetwork(X,y)\n",
    "nn.train()\n",
    "print(nn.output)\n",
    "\n",
    "#plot the error over the entire training duration\n",
    "plt.figure(figsize = (15,6))\n",
    "plt.plot(nn.epoch_list, nn.error_history)\n",
    "plt.xlabel('Epoch')\n",
    "plt.ylabel('Error')\n",
    "plt.title('Loss After Decorrelation')\n",
    "plt.savefig('pca')"
   ]
  },
  {
   "cell_type": "markdown",
   "metadata": {},
   "source": [
    "## 2.4 Log transformation"
   ]
  },
  {
   "cell_type": "code",
   "execution_count": 452,
   "metadata": {},
   "outputs": [
    {
     "data": {
      "text/plain": [
       "array([[ 1.87225414,  0.51282363,  0.85015093],\n",
       "       [ 2.37024374,  5.41765475,  0.69813472],\n",
       "       [ 0.84586827,  0.05638033,  0.80647587],\n",
       "       [ 0.74668795,  2.66722821,  0.84950542],\n",
       "       [ 0.0861777 ,  2.13838239,  0.83724752],\n",
       "       [ 0.89199804,  1.01523068, 10.79960211]])"
      ]
     },
     "execution_count": 452,
     "metadata": {},
     "output_type": "execute_result"
    }
   ],
   "source": [
    "from sklearn.preprocessing import FunctionTransformer\n",
    "transformer = FunctionTransformer(np.log1p)\n",
    "X_44 = transformer.transform(X)\n",
    "X_44"
   ]
  },
  {
   "cell_type": "code",
   "execution_count": 453,
   "metadata": {},
   "outputs": [
    {
     "name": "stdout",
     "output_type": "stream",
     "text": [
      "[[0.0077007 ]\n",
      " [0.00107756]\n",
      " [0.99230134]\n",
      " [0.00108591]\n",
      " [0.00137122]\n",
      " [0.999577  ]]\n"
     ]
    },
    {
     "data": {
      "image/png": "[encoded data removed]",
      "text/plain": [
       "<Figure size 1080x432 with 1 Axes>"
      ]
     },
     "metadata": {
      "needs_background": "light"
     },
     "output_type": "display_data"
    }
   ],
   "source": [
    "def sigmoid(X):\n",
    "    return 1.0/(1+ np.exp(-X))\n",
    "\n",
    "def sigmoid_derivative(X):\n",
    "    return X * (1.0 - X)\n",
    "\n",
    "class NeuralNetwork:\n",
    "    def __init__(self, X_44, y):\n",
    "        self.input = X_44\n",
    "        self.y = y\n",
    "        self.output = np.zeros(self.y.shape)\n",
    "        \n",
    "        #initialize weights\n",
    "        self.weights1 = np.random.rand(self.input.shape[1],6) \n",
    "        self.weights2 = np.random.rand(6,1)   \n",
    "        \n",
    "        #record the error of each epoch\n",
    "        self.error_history = []\n",
    "        self.epoch_list = []\n",
    "\n",
    "    def feedforward(self):\n",
    "        self.layer1 = sigmoid(np.dot(self.input, self.weights1))\n",
    "        self.output = sigmoid(np.dot(self.layer1, self.weights2))\n",
    "\n",
    "    def backprop(self):\n",
    "        # application of the chain rule to find derivative of the loss function with respect to weights2 and weights1\n",
    "        d_weights2 = np.dot(self.layer1.T, (2*(self.y - self.output) * sigmoid_derivative(self.output)))\n",
    "        d_weights1 = np.dot(self.input.T, (np.dot(2*(self.y - self.output) * sigmoid_derivative(self.output), self.weights2.T) * sigmoid_derivative(self.layer1)))\n",
    "\n",
    "        # update the weights with the derivative (slope) of the loss function\n",
    "        self.weights1 += d_weights1\n",
    "        self.weights2 += d_weights2\n",
    "    \n",
    "    #train the nn for 3000 iterations\n",
    "    def train(self,epoch = 3000):\n",
    "        for epoch in range (epoch):\n",
    "            self.feedforward()\n",
    "            self.backprop()\n",
    "            \n",
    "            #keep track of the error history over each epoch\n",
    "            self.error_history.append(np.average(np.abs(self.y - self.output)))\n",
    "            self.epoch_list.append(epoch)\n",
    "            \n",
    "            \n",
    "nn = NeuralNetwork(X,y)\n",
    "nn.train()\n",
    "print(nn.output)\n",
    "\n",
    "#plot the error over the entire training duration\n",
    "plt.figure(figsize = (15,6))\n",
    "plt.plot(nn.epoch_list, nn.error_history)\n",
    "plt.xlabel('Epoch')\n",
    "plt.ylabel('Error')\n",
    "plt.title('Loss After Log Transformation')\n",
    "plt.savefig('log_2')"
   ]
  },
  {
   "cell_type": "code",
   "execution_count": null,
   "metadata": {},
   "outputs": [],
   "source": []
  }
 ],
 "metadata": {
  "kernelspec": {
   "display_name": "Python 3",
   "language": "python",
   "name": "python3"
  },
  "language_info": {
   "codemirror_mode": {
    "name": "ipython",
    "version": 3
   },
   "file_extension": ".py",
   "mimetype": "text/x-python",
   "name": "python",
   "nbconvert_exporter": "python",
   "pygments_lexer": "ipython3",
   "version": "3.8.5"
  }
 },
 "nbformat": 4,
 "nbformat_minor": 4
}
