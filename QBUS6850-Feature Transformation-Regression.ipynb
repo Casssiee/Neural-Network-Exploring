{
 "cells": [
  {
   "cell_type": "markdown",
   "metadata": {},
   "source": [
    "# Import packages and loading the data"
   ]
  },
  {
   "cell_type": "code",
   "execution_count": 242,
   "metadata": {},
   "outputs": [],
   "source": [
    "import numpy as np \n",
    "import pandas as pd\n",
    "import seaborn as sns\n",
    "import matplotlib.pyplot as plt \n",
    "from sklearn.metrics import log_loss\n",
    "from sklearn.model_selection import train_test_split\n",
    "from sklearn.linear_model import LinearRegression\n",
    "from sklearn.metrics import mean_squared_error, r2_score\n",
    "from sklearn import datasets, linear_model\n",
    "from sklearn.metrics import confusion_matrix"
   ]
  },
  {
   "cell_type": "markdown",
   "metadata": {},
   "source": [
    "# Part 2. Regression\n",
    "---------------------------"
   ]
  },
  {
   "cell_type": "markdown",
   "metadata": {},
   "source": [
    "# 1. Real dataset"
   ]
  },
  {
   "cell_type": "code",
   "execution_count": 243,
   "metadata": {},
   "outputs": [],
   "source": [
    "# Load the diabetes dataset\n",
    "#https://scikit-learn.org/stable/modules/generated/sklearn.datasets.load_diabetes.html#sklearn.datasets.load_diabetes\n",
    "data= datasets.load_diabetes()"
   ]
  },
  {
   "cell_type": "code",
   "execution_count": 244,
   "metadata": {},
   "outputs": [],
   "source": [
    "X = data['data']\n",
    "y = data['target']"
   ]
  },
  {
   "cell_type": "code",
   "execution_count": 245,
   "metadata": {},
   "outputs": [
    {
     "name": "stdout",
     "output_type": "stream",
     "text": [
      "(422, 1)\n",
      "(422,)\n",
      "(20, 1)\n",
      "(20,)\n"
     ]
    }
   ],
   "source": [
    "# Use only one feature\n",
    "#https://numpy.org/doc/stable/reference/constants.html#numpy.newaxis\n",
    "X = X[:, np.newaxis, 2]\n",
    "\n",
    "# Split the data into training/testing sets\n",
    "X_train = X[:-20]\n",
    "X_test = X[-20:]\n",
    "\n",
    "# Split the targets into training/testing sets\n",
    "y_train = y[:-20]\n",
    "y_test = y[-20:]\n",
    "\n",
    "# Create linear regression object\n",
    "regr = linear_model.LinearRegression()\n",
    "\n",
    "# Train the model using the training sets\n",
    "regr.fit(X_train, y_train)\n",
    "\n",
    "# Make predictions using the testing set\n",
    "y_pred = regr.predict(X_test)\n",
    "print(X_train.shape)\n",
    "print(y_train.shape)\n",
    "print(X_test.shape)\n",
    "print(y_test.shape)"
   ]
  },
  {
   "cell_type": "code",
   "execution_count": 246,
   "metadata": {},
   "outputs": [
    {
     "data": {
      "image/png": "[encoded data removed]",
      "text/plain": [
       "<Figure size 432x288 with 1 Axes>"
      ]
     },
     "metadata": {},
     "output_type": "display_data"
    }
   ],
   "source": [
    "plt.scatter(X_test, y_test, color=\"black\")\n",
    "plt.plot(X_test, y_pred, color=\"blue\", linewidth=3)\n",
    "\n",
    "plt.xticks(())\n",
    "plt.yticks(())\n",
    "\n",
    "plt.show()"
   ]
  },
  {
   "cell_type": "markdown",
   "metadata": {},
   "source": [
    "## Building the neural network"
   ]
  },
  {
   "cell_type": "code",
   "execution_count": 247,
   "metadata": {},
   "outputs": [],
   "source": [
    "def linear(X):\n",
    "    return X\n",
    "\n",
    "class NeuralNetwork:\n",
    "    \n",
    "    def __init__(self, lr, max_iter, random_state=None):\n",
    "        self.lr = lr\n",
    "        self.max_iter =  max_iter\n",
    "        self.random_state = random_state\n",
    "\n",
    "    def fit(self, X, y):\n",
    "        y = y.reshape(-1, 1)\n",
    "\n",
    "        if self.random_state:\n",
    "            np.random.seed(self.random_state)\n",
    "\n",
    "        self.W1 = np.random.rand(1, 10)\n",
    "        self.b1 = np.random.rand(10)\n",
    "        self.W2 = np.random.rand(10, 1)\n",
    "        self.b2 = np.random.rand(1)\n",
    "\n",
    "        loss_history = []\n",
    "\n",
    "        for i in range(self.max_iter):\n",
    "            Z1 = np.dot(X, self.W1) + self.b1\n",
    "            A1 = linear(Z1)\n",
    "        \n",
    "            Z2 = np.dot(A1, self.W2) + self.b2\n",
    "            y_pred = linear(Z2)\n",
    "\n",
    "            loss = np.mean((y_pred - y)**2)\n",
    "            loss_history.append(loss)   \n",
    "\n",
    "            e = (y_pred - y)\n",
    "\n",
    "            dW2 = np.dot(A1.T, e)\n",
    "            db2 = np.sum(e)\n",
    "\n",
    "            dW1 = np.dot(X.T, np.dot(e, self.W2.T))\n",
    "            db1 = np.sum(np.dot(e, self.W2.T), axis = 0)\n",
    "\n",
    "            self.W1 = self.W1 - self.lr * dW1\n",
    "            self.b1 = self.b1 - self.lr * db1\n",
    "            self.W2 = self.W2 - self.lr * dW2\n",
    "            self.b2 = self.b2 - self.lr * db2\n",
    "\n",
    "        return loss_history\n",
    "\n",
    "    def predict(self, X_test):\n",
    "        y_test_pred = (self.predict_proba(X_test) > 0.5).astype(int)\n",
    "        return y_test_pred\n",
    "    \n",
    "    def predict_proba(self, X_test):\n",
    "        Z1 = np.dot(X_test, self.W1) + self.b1\n",
    "        A1 = linear(Z1)\n",
    "        \n",
    "        Z2 = np.dot(A1, self.W2) + self.b2\n",
    "        A2 = linear(Z2)\n",
    "\n",
    "        return A2"
   ]
  },
  {
   "cell_type": "code",
   "execution_count": 248,
   "metadata": {},
   "outputs": [],
   "source": [
    "network = NeuralNetwork(0.0001, 1000, 6850)\n",
    "loss_list = network.fit(X_test, y_test) "
   ]
  },
  {
   "cell_type": "code",
   "execution_count": 249,
   "metadata": {},
   "outputs": [
    {
     "name": "stdout",
     "output_type": "stream",
     "text": [
      "[[0 0 0 ... 0 0 0]\n",
      " [1 0 0 ... 0 0 0]\n",
      " [1 0 0 ... 0 0 0]\n",
      " ...\n",
      " [1 0 0 ... 0 0 0]\n",
      " [1 0 0 ... 0 0 0]\n",
      " [1 0 0 ... 0 0 0]]\n"
     ]
    }
   ],
   "source": [
    "test_preds = network.predict(X_train)\n",
    "print(confusion_matrix(y_train, test_preds))"
   ]
  },
  {
   "cell_type": "code",
   "execution_count": 250,
   "metadata": {},
   "outputs": [
    {
     "data": {
      "image/png": "[encoded data removed]",
      "text/plain": [
       "<Figure size 432x288 with 1 Axes>"
      ]
     },
     "metadata": {
      "needs_background": "light"
     },
     "output_type": "display_data"
    }
   ],
   "source": [
    "plt.plot(loss_list)\n",
    "plt.xlabel('Iteration')\n",
    "plt.ylabel('Loss')\n",
    "\n",
    "plt.show()"
   ]
  },
  {
   "cell_type": "markdown",
   "metadata": {},
   "source": [
    "## 1.1 Scalling - Minmax scaler"
   ]
  },
  {
   "cell_type": "code",
   "execution_count": 251,
   "metadata": {},
   "outputs": [],
   "source": [
    "from sklearn.preprocessing import MinMaxScaler\n",
    "scaler_1 = MinMaxScaler()"
   ]
  },
  {
   "cell_type": "code",
   "execution_count": 252,
   "metadata": {},
   "outputs": [
    {
     "name": "stdout",
     "output_type": "stream",
     "text": [
      "(422, 1)\n"
     ]
    }
   ],
   "source": [
    "scaled_1 = pd.DataFrame(X_train)\n",
    "scaled_1\n",
    "X_1= scaler_1.fit_transform(X_train)\n",
    "print(X_1.shape)"
   ]
  },
  {
   "cell_type": "code",
   "execution_count": 253,
   "metadata": {},
   "outputs": [
    {
     "name": "stdout",
     "output_type": "stream",
     "text": [
      "(20, 1)\n"
     ]
    }
   ],
   "source": [
    "scaled_11 = pd.DataFrame(X_test)\n",
    "scaled_11\n",
    "X_11= scaler_1.fit_transform(X_test)\n",
    "print(X_11.shape)"
   ]
  },
  {
   "cell_type": "markdown",
   "metadata": {},
   "source": [
    "## Building the neural network"
   ]
  },
  {
   "cell_type": "code",
   "execution_count": 254,
   "metadata": {},
   "outputs": [],
   "source": [
    "def linear(X):\n",
    "    return X\n",
    "\n",
    "class NeuralNetwork:\n",
    "    \n",
    "    def __init__(self, lr, max_iter, random_state=None):\n",
    "        self.lr = lr\n",
    "        self.max_iter =  max_iter\n",
    "        self.random_state = random_state\n",
    "\n",
    "    def fit(self, X_1, y_train):\n",
    "        y_train = y_train.reshape(-1, 1)\n",
    "\n",
    "        if self.random_state:\n",
    "            np.random.seed(self.random_state)\n",
    "\n",
    "        self.W1 = np.random.rand(1, 10)\n",
    "        self.b1 = np.random.rand(10)\n",
    "        self.W2 = np.random.rand(10, 1)\n",
    "        self.b2 = np.random.rand(1)\n",
    "\n",
    "        loss_history = []\n",
    "\n",
    "        for i in range(self.max_iter):\n",
    "            Z1 = np.dot(X_1, self.W1) + self.b1\n",
    "            A1 = linear(Z1)\n",
    "        \n",
    "            Z2 = np.dot(A1, self.W2) + self.b2\n",
    "            y_train_pred = linear(Z2)\n",
    "\n",
    "            loss = np.mean((y_train_pred - y_train)**2)\n",
    "            loss_history.append(loss)   \n",
    "\n",
    "            e = (y_train_pred - y_train)\n",
    "\n",
    "            dW2 = np.dot(A1.T, e)\n",
    "            db2 = np.sum(e)\n",
    "\n",
    "            dW1 = np.dot(X_1.T, np.dot(e, self.W2.T))\n",
    "            db1 = np.sum(np.dot(e, self.W2.T), axis = 0)\n",
    "\n",
    "            self.W1 = self.W1 - self.lr * dW1\n",
    "            self.b1 = self.b1 - self.lr * db1\n",
    "            self.W2 = self.W2 - self.lr * dW2\n",
    "            self.b2 = self.b2 - self.lr * db2\n",
    "\n",
    "        return loss_history\n",
    "\n",
    "    def predict(self, X_11):\n",
    "        y_test_pred = (self.predict_proba(X_11) > 0.5).astype(int)\n",
    "        return y_test_pred\n",
    "    \n",
    "    def predict_proba(self, X_11):\n",
    "        Z1 = np.dot(X_11, self.W1) + self.b1\n",
    "        A1 = linear(Z1)\n",
    "        \n",
    "        Z2 = np.dot(A1, self.W2) + self.b2\n",
    "        A2 = linear(Z2)\n",
    "\n",
    "        return A2"
   ]
  },
  {
   "cell_type": "code",
   "execution_count": 255,
   "metadata": {},
   "outputs": [],
   "source": [
    "network = NeuralNetwork(0.0001, 1000, 6850)\n",
    "loss_list = network.fit(X_11, y_test) "
   ]
  },
  {
   "cell_type": "code",
   "execution_count": 256,
   "metadata": {},
   "outputs": [
    {
     "name": "stdout",
     "output_type": "stream",
     "text": [
      "[[0 0 0 0 0 0 0 0 0 0 0 0 0 0 0 0 0 0 0 0 0]\n",
      " [1 0 0 0 0 0 0 0 0 0 0 0 0 0 0 0 0 0 0 0 0]\n",
      " [1 0 0 0 0 0 0 0 0 0 0 0 0 0 0 0 0 0 0 0 0]\n",
      " [1 0 0 0 0 0 0 0 0 0 0 0 0 0 0 0 0 0 0 0 0]\n",
      " [1 0 0 0 0 0 0 0 0 0 0 0 0 0 0 0 0 0 0 0 0]\n",
      " [1 0 0 0 0 0 0 0 0 0 0 0 0 0 0 0 0 0 0 0 0]\n",
      " [1 0 0 0 0 0 0 0 0 0 0 0 0 0 0 0 0 0 0 0 0]\n",
      " [1 0 0 0 0 0 0 0 0 0 0 0 0 0 0 0 0 0 0 0 0]\n",
      " [1 0 0 0 0 0 0 0 0 0 0 0 0 0 0 0 0 0 0 0 0]\n",
      " [1 0 0 0 0 0 0 0 0 0 0 0 0 0 0 0 0 0 0 0 0]\n",
      " [1 0 0 0 0 0 0 0 0 0 0 0 0 0 0 0 0 0 0 0 0]\n",
      " [1 0 0 0 0 0 0 0 0 0 0 0 0 0 0 0 0 0 0 0 0]\n",
      " [1 0 0 0 0 0 0 0 0 0 0 0 0 0 0 0 0 0 0 0 0]\n",
      " [1 0 0 0 0 0 0 0 0 0 0 0 0 0 0 0 0 0 0 0 0]\n",
      " [1 0 0 0 0 0 0 0 0 0 0 0 0 0 0 0 0 0 0 0 0]\n",
      " [1 0 0 0 0 0 0 0 0 0 0 0 0 0 0 0 0 0 0 0 0]\n",
      " [1 0 0 0 0 0 0 0 0 0 0 0 0 0 0 0 0 0 0 0 0]\n",
      " [1 0 0 0 0 0 0 0 0 0 0 0 0 0 0 0 0 0 0 0 0]\n",
      " [1 0 0 0 0 0 0 0 0 0 0 0 0 0 0 0 0 0 0 0 0]\n",
      " [1 0 0 0 0 0 0 0 0 0 0 0 0 0 0 0 0 0 0 0 0]\n",
      " [1 0 0 0 0 0 0 0 0 0 0 0 0 0 0 0 0 0 0 0 0]]\n"
     ]
    }
   ],
   "source": [
    "test_preds = network.predict(X_11)\n",
    "print(confusion_matrix(y_test, test_preds))"
   ]
  },
  {
   "cell_type": "code",
   "execution_count": 257,
   "metadata": {},
   "outputs": [
    {
     "data": {
      "image/png": "[encoded data removed]",
      "text/plain": [
       "<Figure size 432x288 with 1 Axes>"
      ]
     },
     "metadata": {
      "needs_background": "light"
     },
     "output_type": "display_data"
    }
   ],
   "source": [
    "plt.plot(loss_list)\n",
    "plt.xlabel('Iteration')\n",
    "plt.ylabel('Loss')\n",
    "\n",
    "plt.show()"
   ]
  },
  {
   "cell_type": "markdown",
   "metadata": {},
   "source": [
    "## 1.2 Standardization"
   ]
  },
  {
   "cell_type": "code",
   "execution_count": 258,
   "metadata": {},
   "outputs": [],
   "source": [
    "from sklearn.preprocessing import StandardScaler\n",
    "#from sklearn import preprocessing\n",
    "scaler_2 = StandardScaler()"
   ]
  },
  {
   "cell_type": "code",
   "execution_count": 259,
   "metadata": {},
   "outputs": [
    {
     "name": "stdout",
     "output_type": "stream",
     "text": [
      "(422, 1)\n"
     ]
    }
   ],
   "source": [
    "scaled_2 = pd.DataFrame(X_train)\n",
    "scaled_2\n",
    "X_2= scaler_2.fit_transform(X_train)\n",
    "print(X_2.shape)"
   ]
  },
  {
   "cell_type": "code",
   "execution_count": 260,
   "metadata": {},
   "outputs": [
    {
     "name": "stdout",
     "output_type": "stream",
     "text": [
      "(20, 1)\n"
     ]
    }
   ],
   "source": [
    "scaled_22 = pd.DataFrame(X_test)\n",
    "scaled_22\n",
    "X_22= scaler_2.fit_transform(X_test)\n",
    "print(X_22.shape)"
   ]
  },
  {
   "cell_type": "markdown",
   "metadata": {},
   "source": [
    "## Building the neural network"
   ]
  },
  {
   "cell_type": "code",
   "execution_count": 261,
   "metadata": {},
   "outputs": [],
   "source": [
    "def linear(X):\n",
    "    return X\n",
    "\n",
    "class NeuralNetwork:\n",
    "    \n",
    "    def __init__(self, lr, max_iter, random_state=None):\n",
    "        self.lr = lr\n",
    "        self.max_iter =  max_iter\n",
    "        self.random_state = random_state\n",
    "\n",
    "    def fit(self, X_2, y_train):\n",
    "        y_train = y_train.reshape(-1, 1)\n",
    "\n",
    "        if self.random_state:\n",
    "            np.random.seed(self.random_state)\n",
    "\n",
    "        self.W1 = np.random.rand(1, 10)\n",
    "        self.b1 = np.random.rand(10)\n",
    "        self.W2 = np.random.rand(10, 1)\n",
    "        self.b2 = np.random.rand(1)\n",
    "\n",
    "        loss_history = []\n",
    "\n",
    "        for i in range(self.max_iter):\n",
    "            Z1 = np.dot(X_2, self.W1) + self.b1\n",
    "            A1 = linear(Z1)\n",
    "        \n",
    "            Z2 = np.dot(A1, self.W2) + self.b2\n",
    "            y_train_pred = linear(Z2)\n",
    "\n",
    "            loss = np.mean((y_train_pred - y_train)**2)\n",
    "            loss_history.append(loss)   \n",
    "\n",
    "            e = (y_train_pred - y_train)\n",
    "\n",
    "            dW2 = np.dot(A1.T, e)\n",
    "            db2 = np.sum(e)\n",
    "\n",
    "            dW1 = np.dot(X_2.T, np.dot(e, self.W2.T))\n",
    "            db1 = np.sum(np.dot(e, self.W2.T), axis = 0)\n",
    "\n",
    "            self.W1 = self.W1 - self.lr * dW1\n",
    "            self.b1 = self.b1 - self.lr * db1\n",
    "            self.W2 = self.W2 - self.lr * dW2\n",
    "            self.b2 = self.b2 - self.lr * db2\n",
    "\n",
    "        return loss_history\n",
    "\n",
    "    def predict(self, X_22):\n",
    "        y_test_pred = (self.predict_proba(X_22) > 0.5).astype(int)\n",
    "        return y_test_pred\n",
    "    \n",
    "    def predict_proba(self, X_22):\n",
    "        Z1 = np.dot(X_22, self.W1) + self.b1\n",
    "        A1 = linear(Z1)\n",
    "        \n",
    "        Z2 = np.dot(A1, self.W2) + self.b2\n",
    "        A2 = linear(Z2)\n",
    "\n",
    "        return A2"
   ]
  },
  {
   "cell_type": "code",
   "execution_count": 262,
   "metadata": {},
   "outputs": [],
   "source": [
    "network = NeuralNetwork(0.0001, 1000, 6850)\n",
    "loss_list = network.fit(X_22, y_test) "
   ]
  },
  {
   "cell_type": "code",
   "execution_count": 263,
   "metadata": {},
   "outputs": [
    {
     "data": {
      "image/png": "[encoded data removed]",
      "text/plain": [
       "<Figure size 432x288 with 1 Axes>"
      ]
     },
     "metadata": {
      "needs_background": "light"
     },
     "output_type": "display_data"
    }
   ],
   "source": [
    "plt.plot(loss_list)\n",
    "plt.xlabel('Iteration')\n",
    "plt.ylabel('Loss')\n",
    "\n",
    "plt.show()"
   ]
  },
  {
   "cell_type": "markdown",
   "metadata": {},
   "source": [
    "## 1.3 Decorrelation"
   ]
  },
  {
   "cell_type": "code",
   "execution_count": 267,
   "metadata": {},
   "outputs": [
    {
     "data": {
      "text/plain": [
       "array([[ 0.08784168],\n",
       "       [-0.02963983],\n",
       "       [ 0.02101734],\n",
       "       [-0.03071764],\n",
       "       [-0.02425077],\n",
       "       [ 0.01562828],\n",
       "       [ 0.0986198 ],\n",
       "       [-0.02317296],\n",
       "       [-0.04688483],\n",
       "       [-0.02101734],\n",
       "       [ 0.06520763],\n",
       "       [-0.05011826],\n",
       "       [ 0.01131703],\n",
       "       [-0.01347265],\n",
       "       [-0.06412982],\n",
       "       [ 0.02963983],\n",
       "       [-0.00592797],\n",
       "       [-0.00592797],\n",
       "       [ 0.04904045],\n",
       "       [-0.06305201]])"
      ]
     },
     "execution_count": 267,
     "metadata": {},
     "output_type": "execute_result"
    }
   ],
   "source": [
    "from sklearn.decomposition import PCA\n",
    "model = PCA()\n",
    "\n",
    "X_3 = model.fit_transform(X_train)\n",
    "X_3\n",
    "\n",
    "X_33 = model.fit_transform(X_test)\n",
    "X_33"
   ]
  },
  {
   "cell_type": "markdown",
   "metadata": {},
   "source": [
    "## Building the neural network"
   ]
  },
  {
   "cell_type": "code",
   "execution_count": 268,
   "metadata": {},
   "outputs": [],
   "source": [
    "def linear(X):\n",
    "    return X\n",
    "\n",
    "class NeuralNetwork:\n",
    "    \n",
    "    def __init__(self, lr, max_iter, random_state=None):\n",
    "        self.lr = lr\n",
    "        self.max_iter =  max_iter\n",
    "        self.random_state = random_state\n",
    "\n",
    "    def fit(self, X_3, y_train):\n",
    "        y_train = y_train.reshape(-1, 1)\n",
    "\n",
    "        if self.random_state:\n",
    "            np.random.seed(self.random_state)\n",
    "\n",
    "        self.W1 = np.random.rand(1, 10)\n",
    "        self.b1 = np.random.rand(10)\n",
    "        self.W2 = np.random.rand(10, 1)\n",
    "        self.b2 = np.random.rand(1)\n",
    "\n",
    "        loss_history = []\n",
    "\n",
    "        for i in range(self.max_iter):\n",
    "            Z1 = np.dot(X_3, self.W1) + self.b1\n",
    "            A1 = linear(Z1)\n",
    "        \n",
    "            Z2 = np.dot(A1, self.W2) + self.b2\n",
    "            y_train_pred = linear(Z2)\n",
    "\n",
    "            loss = np.mean((y_train_pred - y_train)**2)\n",
    "            loss_history.append(loss)   \n",
    "\n",
    "            e = (y_train_pred - y_train)\n",
    "\n",
    "            dW2 = np.dot(A1.T, e)\n",
    "            db2 = np.sum(e)\n",
    "\n",
    "            dW1 = np.dot(X_3.T, np.dot(e, self.W2.T))\n",
    "            db1 = np.sum(np.dot(e, self.W2.T), axis = 0)\n",
    "\n",
    "            self.W1 = self.W1 - self.lr * dW1\n",
    "            self.b1 = self.b1 - self.lr * db1\n",
    "            self.W2 = self.W2 - self.lr * dW2\n",
    "            self.b2 = self.b2 - self.lr * db2\n",
    "\n",
    "        return loss_history\n",
    "\n",
    "    def predict(self, X_33):\n",
    "        y_test_pred = (self.predict_proba(X_33) > 0.5).astype(int)\n",
    "        return y_test_pred\n",
    "    \n",
    "    def predict_proba(self, X_33):\n",
    "        Z1 = np.dot(X_33, self.W1) + self.b1\n",
    "        A1 = linear(Z1)\n",
    "        \n",
    "        Z2 = np.dot(A1, self.W2) + self.b2\n",
    "        A2 = linear(Z2)\n",
    "\n",
    "        return A2"
   ]
  },
  {
   "cell_type": "code",
   "execution_count": 269,
   "metadata": {},
   "outputs": [],
   "source": [
    "network = NeuralNetwork(0.0001, 1000, 6850)\n",
    "loss_list = network.fit(X_33, y_test) "
   ]
  },
  {
   "cell_type": "code",
   "execution_count": 270,
   "metadata": {},
   "outputs": [
    {
     "data": {
      "image/png": "[encoded data removed]",
      "text/plain": [
       "<Figure size 432x288 with 1 Axes>"
      ]
     },
     "metadata": {
      "needs_background": "light"
     },
     "output_type": "display_data"
    }
   ],
   "source": [
    "plt.plot(loss_list)\n",
    "plt.xlabel('Iteration')\n",
    "plt.ylabel('Loss')\n",
    "\n",
    "plt.show()"
   ]
  },
  {
   "cell_type": "markdown",
   "metadata": {},
   "source": [
    "## 1.4 Log-transformation"
   ]
  },
  {
   "cell_type": "code",
   "execution_count": 271,
   "metadata": {},
   "outputs": [
    {
     "data": {
      "text/plain": [
       "array([[ 0.07498074],\n",
       "       [-0.04042429],\n",
       "       [ 0.01097855],\n",
       "       [-0.0415472 ],\n",
       "       [-0.0348286 ],\n",
       "       [ 0.00563408],\n",
       "       [ 0.0849306 ],\n",
       "       [-0.03371321],\n",
       "       [-0.05854385],\n",
       "       [-0.03148616],\n",
       "       [ 0.05375812],\n",
       "       [-0.06197813],\n",
       "       [ 0.00133784],\n",
       "       [-0.0237303 ],\n",
       "       [-0.07699781],\n",
       "       [ 0.01947074],\n",
       "       [-0.01603413],\n",
       "       [-0.01603413],\n",
       "       [ 0.03831853],\n",
       "       [-0.0758344 ]])"
      ]
     },
     "execution_count": 271,
     "metadata": {},
     "output_type": "execute_result"
    }
   ],
   "source": [
    "from sklearn.preprocessing import FunctionTransformer\n",
    "transformer = FunctionTransformer(np.log1p)\n",
    "X_4 = transformer.transform(X_train)\n",
    "X_4\n",
    "\n",
    "X_44 = transformer.transform(X_test)\n",
    "X_44"
   ]
  },
  {
   "cell_type": "markdown",
   "metadata": {},
   "source": [
    "## Building the neural network"
   ]
  },
  {
   "cell_type": "code",
   "execution_count": 272,
   "metadata": {},
   "outputs": [],
   "source": [
    "def linear(X):\n",
    "    return X\n",
    "\n",
    "class NeuralNetwork:\n",
    "    \n",
    "    def __init__(self, lr, max_iter, random_state=None):\n",
    "        self.lr = lr\n",
    "        self.max_iter =  max_iter\n",
    "        self.random_state = random_state\n",
    "\n",
    "    def fit(self, X_4, y_train):\n",
    "        y_train = y_train.reshape(-1, 1)\n",
    "\n",
    "        if self.random_state:\n",
    "            np.random.seed(self.random_state)\n",
    "\n",
    "        self.W1 = np.random.rand(1, 10)\n",
    "        self.b1 = np.random.rand(10)\n",
    "        self.W2 = np.random.rand(10, 1)\n",
    "        self.b2 = np.random.rand(1)\n",
    "\n",
    "        loss_history = []\n",
    "\n",
    "        for i in range(self.max_iter):\n",
    "            Z1 = np.dot(X_4, self.W1) + self.b1\n",
    "            A1 = linear(Z1)\n",
    "        \n",
    "            Z2 = np.dot(A1, self.W2) + self.b2\n",
    "            y_train_pred = linear(Z2)\n",
    "\n",
    "            loss = np.mean((y_train_pred - y_train)**2)\n",
    "            loss_history.append(loss)   \n",
    "\n",
    "            e = (y_train_pred - y_train)\n",
    "\n",
    "            dW2 = np.dot(A1.T, e)\n",
    "            db2 = np.sum(e)\n",
    "\n",
    "            dW1 = np.dot(X_4.T, np.dot(e, self.W2.T))\n",
    "            db1 = np.sum(np.dot(e, self.W2.T), axis = 0)\n",
    "\n",
    "            self.W1 = self.W1 - self.lr * dW1\n",
    "            self.b1 = self.b1 - self.lr * db1\n",
    "            self.W2 = self.W2 - self.lr * dW2\n",
    "            self.b2 = self.b2 - self.lr * db2\n",
    "\n",
    "        return loss_history\n",
    "\n",
    "    def predict(self, X_44):\n",
    "        y_test_pred = (self.predict_proba(X_44) > 0.5).astype(int)\n",
    "        return y_test_pred\n",
    "    \n",
    "    def predict_proba(self, X_44):\n",
    "        Z1 = np.dot(X_44, self.W1) + self.b1\n",
    "        A1 = linear(Z1)\n",
    "        \n",
    "        Z2 = np.dot(A1, self.W2) + self.b2\n",
    "        A2 = linear(Z2)\n",
    "\n",
    "        return A2"
   ]
  },
  {
   "cell_type": "code",
   "execution_count": 273,
   "metadata": {},
   "outputs": [],
   "source": [
    "network = NeuralNetwork(0.0001, 1000, 6850)\n",
    "loss_list = network.fit(X_44, y_test) "
   ]
  },
  {
   "cell_type": "code",
   "execution_count": 274,
   "metadata": {},
   "outputs": [
    {
     "data": {
      "image/png": "[encoded data removed]",
      "text/plain": [
       "<Figure size 432x288 with 1 Axes>"
      ]
     },
     "metadata": {
      "needs_background": "light"
     },
     "output_type": "display_data"
    }
   ],
   "source": [
    "plt.plot(loss_list)\n",
    "plt.xlabel('Iteration')\n",
    "plt.ylabel('Loss')\n",
    "\n",
    "plt.show()"
   ]
  },
  {
   "cell_type": "code",
   "execution_count": null,
   "metadata": {},
   "outputs": [],
   "source": []
  },
  {
   "cell_type": "markdown",
   "metadata": {},
   "source": [
    "# 2. Synthetic dataset"
   ]
  },
  {
   "cell_type": "code",
   "execution_count": 388,
   "metadata": {},
   "outputs": [],
   "source": [
    "import numpy as np\n",
    "from sklearn.linear_model import LinearRegression"
   ]
  },
  {
   "cell_type": "code",
   "execution_count": 400,
   "metadata": {},
   "outputs": [],
   "source": [
    "x = np.array([54389, 15472, 24386, 3436723, 454274, 534245]).reshape((-1, 1))\n",
    "y = np.array([53478, 28493, 14449, 3438294, 243289, 343829])"
   ]
  },
  {
   "cell_type": "code",
   "execution_count": 401,
   "metadata": {},
   "outputs": [],
   "source": [
    "model = LinearRegression()"
   ]
  },
  {
   "cell_type": "code",
   "execution_count": 402,
   "metadata": {},
   "outputs": [
    {
     "data": {
      "text/plain": [
       "LinearRegression()"
      ]
     },
     "execution_count": 402,
     "metadata": {},
     "output_type": "execute_result"
    }
   ],
   "source": [
    "model.fit(x, y)"
   ]
  },
  {
   "cell_type": "code",
   "execution_count": 403,
   "metadata": {},
   "outputs": [
    {
     "name": "stdout",
     "output_type": "stream",
     "text": [
      "coefficient of determination: 0.9941780112500619\n"
     ]
    }
   ],
   "source": [
    "r_sq = model.score(x, y)\n",
    "print('coefficient of determination:', r_sq)"
   ]
  },
  {
   "cell_type": "code",
   "execution_count": 404,
   "metadata": {},
   "outputs": [
    {
     "name": "stdout",
     "output_type": "stream",
     "text": [
      "intercept: -75352.47354258713\n",
      "slope: [1.01204956]\n"
     ]
    }
   ],
   "source": [
    "print('intercept:', model.intercept_)\n",
    "print('slope:', model.coef_)"
   ]
  },
  {
   "cell_type": "code",
   "execution_count": 405,
   "metadata": {},
   "outputs": [
    {
     "name": "stdout",
     "output_type": "stream",
     "text": [
      "predicted response:\n",
      "[ -20308.11017561  -59694.04279347  -50672.63304052 3402781.51685328\n",
      "  384395.32700843  465329.94214789]\n"
     ]
    }
   ],
   "source": [
    "y_pred = model.predict(x)\n",
    "print('predicted response:', y_pred, sep='\\n')"
   ]
  },
  {
   "cell_type": "code",
   "execution_count": 406,
   "metadata": {},
   "outputs": [
    {
     "name": "stdout",
     "output_type": "stream",
     "text": [
      "predicted response:\n",
      "[[ -20308.11017561]\n",
      " [ -59694.04279347]\n",
      " [ -50672.63304052]\n",
      " [3402781.51685328]\n",
      " [ 384395.32700843]\n",
      " [ 465329.94214789]]\n"
     ]
    }
   ],
   "source": [
    "y_pred = model.intercept_ + model.coef_ * x\n",
    "print('predicted response:', y_pred, sep='\\n')"
   ]
  },
  {
   "cell_type": "code",
   "execution_count": 407,
   "metadata": {},
   "outputs": [
    {
     "data": {
      "image/png": "[encoded data removed]",
      "text/plain": [
       "<Figure size 720x432 with 1 Axes>"
      ]
     },
     "metadata": {
      "needs_background": "light"
     },
     "output_type": "display_data"
    }
   ],
   "source": [
    "#Plotting the results\n",
    "plt.figure(figsize = (10,6))\n",
    "plt.scatter(x ,y , color = 'green')\n",
    "plt.plot(x, y_pred , color = 'k' , lw = 3)\n",
    "plt.xlabel('x' , size = 20)\n",
    "plt.ylabel('y', size = 20)\n",
    "plt.show()"
   ]
  },
  {
   "cell_type": "markdown",
   "metadata": {},
   "source": [
    "## Building the neural network"
   ]
  },
  {
   "cell_type": "code",
   "execution_count": 408,
   "metadata": {},
   "outputs": [],
   "source": [
    "def linear(X):\n",
    "    return X\n",
    "\n",
    "class NeuralNetwork:\n",
    "    \n",
    "    def __init__(self, lr, max_iter, random_state=None):\n",
    "        self.lr = lr\n",
    "        self.max_iter =  max_iter\n",
    "        self.random_state = random_state\n",
    "\n",
    "    def fit(self, x, y):\n",
    "        y = y.reshape(-1, 1)\n",
    "\n",
    "        if self.random_state:\n",
    "            np.random.seed(self.random_state)\n",
    "\n",
    "        self.W1 = np.random.rand(1, 10)\n",
    "        self.b1 = np.random.rand(10)\n",
    "        self.W2 = np.random.rand(10, 1)\n",
    "        self.b2 = np.random.rand(1)\n",
    "\n",
    "        loss_history = []\n",
    "\n",
    "        for i in range(self.max_iter):\n",
    "            Z1 = np.dot(x, self.W1) + self.b1\n",
    "            A1 = linear(Z1)\n",
    "        \n",
    "            Z2 = np.dot(A1, self.W2) + self.b2\n",
    "            y_pred = linear(Z2)\n",
    "\n",
    "            loss = np.mean((y_pred - y)**2)\n",
    "            loss_history.append(loss)   \n",
    "\n",
    "            e = (y_pred - y)\n",
    "\n",
    "            dW2 = np.dot(A1.T, e)\n",
    "            db2 = np.sum(e)\n",
    "\n",
    "            dW1 = np.dot(x.T, np.dot(e, self.W2.T))\n",
    "            db1 = np.sum(np.dot(e, self.W2.T), axis = 0)\n",
    "\n",
    "            self.W1 = self.W1 - self.lr * dW1\n",
    "            self.b1 = self.b1 - self.lr * db1\n",
    "            self.W2 = self.W2 - self.lr * dW2\n",
    "            self.b2 = self.b2 - self.lr * db2\n",
    "\n",
    "        return loss_history\n",
    "\n",
    "    def predict(self, x):\n",
    "        y_pred = (self.predict_proba(x) > 0.5).astype(int)\n",
    "        return y_pred\n",
    "    \n",
    "    def predict_proba(self, x):\n",
    "        Z1 = np.dot(x, self.W1) + self.b1\n",
    "        A1 = linear(Z1)\n",
    "        \n",
    "        Z2 = np.dot(A1, self.W2) + self.b2\n",
    "        A2 = linear(Z2)\n",
    "\n",
    "        return A2"
   ]
  },
  {
   "cell_type": "code",
   "execution_count": 409,
   "metadata": {},
   "outputs": [
    {
     "name": "stderr",
     "output_type": "stream",
     "text": [
      "<ipython-input-408-7dbdd9943af6>:31: RuntimeWarning: overflow encountered in square\n",
      "  loss = np.mean((y_pred - y)**2)\n",
      "<ipython-input-408-7dbdd9943af6>:42: RuntimeWarning: invalid value encountered in subtract\n",
      "  self.W1 = self.W1 - self.lr * dW1\n",
      "<ipython-input-408-7dbdd9943af6>:43: RuntimeWarning: invalid value encountered in subtract\n",
      "  self.b1 = self.b1 - self.lr * db1\n",
      "<ipython-input-408-7dbdd9943af6>:44: RuntimeWarning: invalid value encountered in subtract\n",
      "  self.W2 = self.W2 - self.lr * dW2\n"
     ]
    }
   ],
   "source": [
    "network = NeuralNetwork(0.01, 100, 68)\n",
    "loss_list = network.fit(x, y) "
   ]
  },
  {
   "cell_type": "code",
   "execution_count": 410,
   "metadata": {},
   "outputs": [
    {
     "name": "stdout",
     "output_type": "stream",
     "text": [
      "[[0 0 0 0 0 0 0]\n",
      " [1 0 0 0 0 0 0]\n",
      " [1 0 0 0 0 0 0]\n",
      " [1 0 0 0 0 0 0]\n",
      " [1 0 0 0 0 0 0]\n",
      " [1 0 0 0 0 0 0]\n",
      " [1 0 0 0 0 0 0]]\n"
     ]
    }
   ],
   "source": [
    "test_preds = network.predict(x)\n",
    "print(confusion_matrix(y, test_preds))"
   ]
  },
  {
   "cell_type": "code",
   "execution_count": 411,
   "metadata": {},
   "outputs": [
    {
     "data": {
      "image/png": "[encoded data removed]",
      "text/plain": [
       "<Figure size 432x288 with 1 Axes>"
      ]
     },
     "metadata": {
      "needs_background": "light"
     },
     "output_type": "display_data"
    }
   ],
   "source": [
    "plt.plot(loss_list)\n",
    "plt.xlabel('Iteration')\n",
    "plt.ylabel('Loss')\n",
    "\n",
    "plt.show()"
   ]
  },
  {
   "cell_type": "markdown",
   "metadata": {},
   "source": [
    "## 2.1 Scalling - Minmax scaler"
   ]
  },
  {
   "cell_type": "code",
   "execution_count": 412,
   "metadata": {},
   "outputs": [
    {
     "name": "stdout",
     "output_type": "stream",
     "text": [
      "[[0.01137508]\n",
      " [0.        ]\n",
      " [0.00260548]\n",
      " [1.        ]\n",
      " [0.12825776]\n",
      " [0.15163255]]\n"
     ]
    }
   ],
   "source": [
    "from sklearn.preprocessing import MinMaxScaler\n",
    "\n",
    "scaler = MinMaxScaler()\n",
    "scaler.fit(x)\n",
    "\n",
    "MinMaxScaler()\n",
    "\n",
    "print(scaler.transform(x))"
   ]
  },
  {
   "cell_type": "markdown",
   "metadata": {},
   "source": [
    "## Building the neural network"
   ]
  },
  {
   "cell_type": "code",
   "execution_count": 419,
   "metadata": {},
   "outputs": [
    {
     "ename": "SyntaxError",
     "evalue": "invalid syntax (<ipython-input-419-7881d228313c>, line 18)",
     "output_type": "error",
     "traceback": [
      "\u001b[0;36m  File \u001b[0;32m\"<ipython-input-419-7881d228313c>\"\u001b[0;36m, line \u001b[0;32m18\u001b[0m\n\u001b[0;31m    self.error_history = []\u001b[0m\n\u001b[0m    ^\u001b[0m\n\u001b[0;31mSyntaxError\u001b[0m\u001b[0;31m:\u001b[0m invalid syntax\n"
     ]
    }
   ],
   "source": [
    "def linear(X):\n",
    "    return X\n",
    "\n",
    "def linear_derivative(X):\n",
    "    return 1\n",
    "\n",
    "class NeuralNetwork:\n",
    "    def __init__(self, x, y):\n",
    "        self.input = x\n",
    "        self.y = y\n",
    "        self.output = np.zeros(self.y.shape)\n",
    "        \n",
    "        #initialize weights\n",
    "        self.weights1 = ([0.5],[0.5],[0.5],[0.5],[0.5],[0.5])\n",
    "        self.weights2 = (([0.5, 0.5, 0.5, 0.5, 0.5, 0.5])\n",
    "\n",
    "        #record the error of each epoch\n",
    "        self.error_history = []\n",
    "        self.epoch_list = []\n",
    "\n",
    "    def feedforward(self):\n",
    "        self.layer1 = np.dot(self.input, self.weights1)\n",
    "        self.output = np.dot(self.layer1, self.weights2)\n",
    "\n",
    "    def backprop(self):\n",
    "        # application of the chain rule to find derivative of the loss function with respect to weights2 and weights1\n",
    "        d_weights2 = np.dot(self.layer1.T, (2*(self.y - self.output) * linear_derivative(self.output)))\n",
    "        d_weights1 = np.dot(self.input.T, (np.dot(2*(self.y - self.output) * linear_derivative(self.output), self.weights2.T) * sigmoid_derivative(self.layer1)))\n",
    "\n",
    "        # update the weights with the derivative (slope) of the loss function\n",
    "        self.weights1 += d_weights1\n",
    "        self.weights2 += d_weights2\n",
    "    \n",
    "    #train the nn for 3000 iterations\n",
    "    def train(self,epoch = 3000):\n",
    "        for epoch in range (epoch):\n",
    "            self.feedforward()\n",
    "            self.backprop()\n",
    "            \n",
    "            #keep track of the error history over each epoch\n",
    "            self.error_history.append(np.average(np.abs(self.y - self.output)))\n",
    "            self.epoch_list.append(epoch)\n",
    "            \n",
    "            \n",
    "nn = NeuralNetwork(x,y)\n",
    "nn.train()\n",
    "\n",
    "print(nn.output)\n",
    "    \n",
    "#plot the error over the entire training duration\n",
    "plt.figure(figsize = (15,6))\n",
    "plt.plot(nn.epoch_list, nn.error_history)\n",
    "plt.xlabel('Epoch')\n",
    "plt.ylabel('Error')\n",
    "plt.show()"
   ]
  },
  {
   "cell_type": "code",
   "execution_count": 372,
   "metadata": {},
   "outputs": [],
   "source": [
    "def linear(X):\n",
    "    return X\n",
    "\n",
    "class NeuralNetwork:\n",
    "    \n",
    "    def __init__(self, lr, max_iter, random_state=None):\n",
    "        self.lr = lr\n",
    "        self.max_iter =  max_iter\n",
    "        self.random_state = random_state\n",
    "\n",
    "    def fit(self, x, y):\n",
    "        y = y.reshape(-1, 1)\n",
    "\n",
    "        if self.random_state:\n",
    "            np.random.seed(self.random_state)\n",
    "\n",
    "        self.W1 = np.random.rand(1, 10)\n",
    "        self.b1 = np.random.rand(10)\n",
    "        self.W2 = np.random.rand(10, 1)\n",
    "        self.b2 = np.random.rand(1)\n",
    "\n",
    "        loss_history = []\n",
    "\n",
    "        for i in range(self.max_iter):\n",
    "            Z1 = np.dot(x, self.W1) + self.b1\n",
    "            A1 = linear(Z1)\n",
    "        \n",
    "            Z2 = np.dot(A1, self.W2) + self.b2\n",
    "            y_pred = linear(Z2)\n",
    "\n",
    "            loss = np.mean((y_pred - y)**2)\n",
    "            loss_history.append(loss)   \n",
    "\n",
    "            e = (y_pred - y)\n",
    "\n",
    "            dW2 = np.dot(A1.T, e)\n",
    "            db2 = np.sum(e)\n",
    "\n",
    "            dW1 = np.dot(x.T, np.dot(e, self.W2.T))\n",
    "            db1 = np.sum(np.dot(e, self.W2.T), axis = 0)\n",
    "\n",
    "            self.W1 = self.W1 - self.lr * dW1\n",
    "            self.b1 = self.b1 - self.lr * db1\n",
    "            self.W2 = self.W2 - self.lr * dW2\n",
    "            self.b2 = self.b2 - self.lr * db2\n",
    "\n",
    "        return loss_history\n",
    "\n",
    "    def predict(self, x):\n",
    "        y_pred = (self.predict_proba(x) > 0.5).astype(int)\n",
    "        return y_pred\n",
    "    \n",
    "    def predict_proba(self, x):\n",
    "        Z1 = np.dot(x, self.W1) + self.b1\n",
    "        A1 = linear(Z1)\n",
    "        \n",
    "        Z2 = np.dot(A1, self.W2) + self.b2\n",
    "        A2 = linear(Z2)\n",
    "\n",
    "        return A2"
   ]
  },
  {
   "cell_type": "code",
   "execution_count": 373,
   "metadata": {},
   "outputs": [
    {
     "name": "stderr",
     "output_type": "stream",
     "text": [
      "<ipython-input-372-7dbdd9943af6>:31: RuntimeWarning: overflow encountered in square\n",
      "  loss = np.mean((y_pred - y)**2)\n",
      "<ipython-input-372-7dbdd9943af6>:42: RuntimeWarning: invalid value encountered in subtract\n",
      "  self.W1 = self.W1 - self.lr * dW1\n",
      "<ipython-input-372-7dbdd9943af6>:43: RuntimeWarning: invalid value encountered in subtract\n",
      "  self.b1 = self.b1 - self.lr * db1\n",
      "<ipython-input-372-7dbdd9943af6>:44: RuntimeWarning: invalid value encountered in subtract\n",
      "  self.W2 = self.W2 - self.lr * dW2\n"
     ]
    }
   ],
   "source": [
    "network = NeuralNetwork(0.01, 100, 68)\n",
    "loss_list = network.fit(x, y) "
   ]
  },
  {
   "cell_type": "code",
   "execution_count": 374,
   "metadata": {},
   "outputs": [
    {
     "data": {
      "image/png": "[encoded data removed]",
      "text/plain": [
       "<Figure size 432x288 with 1 Axes>"
      ]
     },
     "metadata": {
      "needs_background": "light"
     },
     "output_type": "display_data"
    }
   ],
   "source": [
    "plt.plot(loss_list)\n",
    "plt.xlabel('Iteration')\n",
    "plt.ylabel('Loss')\n",
    "\n",
    "plt.show()"
   ]
  },
  {
   "cell_type": "code",
   "execution_count": null,
   "metadata": {},
   "outputs": [],
   "source": []
  },
  {
   "cell_type": "code",
   "execution_count": null,
   "metadata": {},
   "outputs": [],
   "source": []
  },
  {
   "cell_type": "code",
   "execution_count": null,
   "metadata": {},
   "outputs": [],
   "source": []
  },
  {
   "cell_type": "code",
   "execution_count": null,
   "metadata": {},
   "outputs": [],
   "source": []
  },
  {
   "cell_type": "code",
   "execution_count": null,
   "metadata": {},
   "outputs": [],
   "source": []
  },
  {
   "cell_type": "code",
   "execution_count": null,
   "metadata": {},
   "outputs": [],
   "source": []
  },
  {
   "cell_type": "code",
   "execution_count": null,
   "metadata": {},
   "outputs": [],
   "source": []
  },
  {
   "cell_type": "code",
   "execution_count": null,
   "metadata": {},
   "outputs": [],
   "source": []
  },
  {
   "cell_type": "code",
   "execution_count": null,
   "metadata": {},
   "outputs": [],
   "source": []
  },
  {
   "cell_type": "code",
   "execution_count": null,
   "metadata": {},
   "outputs": [],
   "source": []
  },
  {
   "cell_type": "code",
   "execution_count": null,
   "metadata": {},
   "outputs": [],
   "source": []
  },
  {
   "cell_type": "code",
   "execution_count": null,
   "metadata": {},
   "outputs": [],
   "source": []
  },
  {
   "cell_type": "code",
   "execution_count": null,
   "metadata": {},
   "outputs": [],
   "source": []
  },
  {
   "cell_type": "code",
   "execution_count": null,
   "metadata": {},
   "outputs": [],
   "source": []
  }
 ],
 "metadata": {
  "kernelspec": {
   "display_name": "Python 3",
   "language": "python",
   "name": "python3"
  },
  "language_info": {
   "codemirror_mode": {
    "name": "ipython",
    "version": 3
   },
   "file_extension": ".py",
   "mimetype": "text/x-python",
   "name": "python",
   "nbconvert_exporter": "python",
   "pygments_lexer": "ipython3",
   "version": "3.8.5"
  }
 },
 "nbformat": 4,
 "nbformat_minor": 4
}
